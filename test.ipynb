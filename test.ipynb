{
 "metadata": {
  "language_info": {
   "codemirror_mode": {
    "name": "ipython",
    "version": 3
   },
   "file_extension": ".py",
   "mimetype": "text/x-python",
   "name": "python",
   "nbconvert_exporter": "python",
   "pygments_lexer": "ipython3",
   "version": "3.8.5"
  },
  "orig_nbformat": 2,
  "kernelspec": {
   "name": "python385jvsc74a57bd0baea3d1e2a76be3c9658e8cbc3f092a0d20c11a0a51df90fb2c6ccf3fcd7a21c",
   "display_name": "Python 3.8.5 64-bit ('expa-bh-analytics': virtualenvwrapper)"
  },
  "metadata": {
   "interpreter": {
    "hash": "baea3d1e2a76be3c9658e8cbc3f092a0d20c11a0a51df90fb2c6ccf3fcd7a21c"
   }
  }
 },
 "nbformat": 4,
 "nbformat_minor": 2,
 "cells": [
  {
   "cell_type": "code",
   "execution_count": 1,
   "metadata": {},
   "outputs": [],
   "source": [
    "import os\n",
    "import json\n",
    "import tempfile\n",
    "import requests\n",
    "import urllib\n",
    "import pygsheets\n",
    "import numpy as np\n",
    "import pandas as pd\n",
    "import asyncio\n",
    "from gql import Client, gql\n",
    "from gql.transport.aiohttp import AIOHTTPTransport\n",
    "from string import Template\n",
    "from utilities import write_base64str_obj_to_file"
   ]
  },
  {
   "cell_type": "code",
   "execution_count": 2,
   "metadata": {},
   "outputs": [],
   "source": [
    "# Select your transport with a defined url endpoint\n",
    "transport = AIOHTTPTransport(url=\"https://gis-api.aiesec.org/graphql/?access_token=7789a122c78d710a724f3cd2a7d8daf809b467d46cf63eafa76b2ae87a32f035\")\n",
    "\n",
    "async def getData():\n",
    "    # Create a GraphQL client using the defined transport\n",
    "    async with Client(transport=transport, fetch_schema_from_transport=True) as session:\n",
    "\n",
    "        # Provide a GraphQL query\n",
    "        query = gql(\n",
    "            \"\"\"\n",
    "            query getApplicationList ($limit: Int, $start_date: DateTime, $end_date: DateTime){\n",
    "            allOpportunityApplication(per_page: $limit, filters: {created_at: {from: $start_date, to: $end_date}}) {\n",
    "                data {\n",
    "                id\n",
    "                status\n",
    "                created_at\n",
    "                date_matched\n",
    "                date_pay_by_cash\n",
    "                date_approved\n",
    "                date_realized\n",
    "                experience_start_date\n",
    "                experience_end_date\n",
    "                date_approval_broken\n",
    "                nps_response_completed_at\n",
    "                updated_at\n",
    "                person {\n",
    "                    id\n",
    "                    full_name\n",
    "                    home_mc {\n",
    "                    name\n",
    "                    }\n",
    "                    home_lc {\n",
    "                    name\n",
    "                    }\n",
    "                }\n",
    "                host_lc {\n",
    "                    name\n",
    "                }\n",
    "                host_mc: home_mc {\n",
    "                    name\n",
    "                }\n",
    "                opportunity {\n",
    "                    id\n",
    "                    created_at\n",
    "                    title\n",
    "                    duration\n",
    "                    sub_product {\n",
    "                    name\n",
    "                    }\n",
    "                    programme {\n",
    "                    short_name_display\n",
    "                    }\n",
    "                }\n",
    "                standards {\n",
    "                    option\n",
    "                }\n",
    "                }\n",
    "            }\n",
    "            }\n",
    "        \"\"\"\n",
    "        )\n",
    "\n",
    "        params = {\t\"mc_id\": [518],\n",
    "                    \"start_date\": \"2021-01-01\",\n",
    "                    \"end_date\": \"\",\n",
    "                    \"limit\": 1000\n",
    "                }\n",
    "\n",
    "        # Execute the query on the transport\n",
    "        results = await session.execute(query, variable_values=params)\n",
    "        # print(result)\n",
    "        return results\n",
    "\n",
    "results = await getData()"
   ]
  },
  {
   "source": [
    "### Build a dataframe out of it"
   ],
   "cell_type": "markdown",
   "metadata": {}
  },
  {
   "cell_type": "code",
   "execution_count": 3,
   "metadata": {},
   "outputs": [],
   "source": [
    "\n",
    "# Reduce the dict by 3 Levels\n",
    "results = results['allOpportunityApplication']['data']\n",
    "\n",
    "#  Flatten dictionary and compress keys\n",
    "results = pd.json_normalize(results, sep='_')\n",
    "\n",
    "# results.replace([np.NaN, \"\", \"-\"], '', inplace=True)"
   ]
  },
  {
   "source": [
    "## The dataset"
   ],
   "cell_type": "markdown",
   "metadata": {}
  },
  {
   "cell_type": "code",
   "execution_count": 4,
   "metadata": {},
   "outputs": [
    {
     "output_type": "execute_result",
     "data": {
      "text/plain": [
       "        id    status            created_at          date_matched  \\\n",
       "0  6162477      open  2021-05-12T14:49:44Z                  None   \n",
       "1  6162430   matched  2021-05-12T13:43:03Z  2021-05-14T08:54:53Z   \n",
       "2  6161918      open  2021-05-11T17:38:19Z                  None   \n",
       "3  6159525      open  2021-05-07T15:21:19Z                  None   \n",
       "4  6158734  rejected  2021-05-06T16:32:17Z                  None   \n",
       "\n",
       "  date_pay_by_cash date_approved date_realized experience_start_date  \\\n",
       "0             None          None          None                  None   \n",
       "1             None          None          None                  None   \n",
       "2             None          None          None                  None   \n",
       "3             None          None          None                  None   \n",
       "4             None          None          None                  None   \n",
       "\n",
       "  experience_end_date date_approval_broken  ... person_home_lc_name  \\\n",
       "0                None                 None  ...                Awal   \n",
       "1                None                 None  ...              Dilmun   \n",
       "2                None                 None  ...                NSBM   \n",
       "3                None                 None  ...                Awal   \n",
       "4                None                 None  ...                Awal   \n",
       "\n",
       "      host_lc_name host_mc_name opportunity_id opportunity_created_at  \\\n",
       "0        MC France       France        1274284   2021-05-04T13:30:34Z   \n",
       "1  COLOMBO CENTRAL    Sri Lanka        1269589   2021-01-21T03:11:15Z   \n",
       "2            Tylos      Bahrain        1273447   2021-04-12T20:21:06Z   \n",
       "3           SAMSUN       Turkey        1267025   2020-10-27T15:39:00Z   \n",
       "4       SAO CARLOS       Brazil        1273545   2021-04-14T23:12:55Z   \n",
       "\n",
       "                                   opportunity_title opportunity_duration  \\\n",
       "0                                HR Projects Manager                 None   \n",
       "1        Forte - Empowering Sri Lankan Girls & Women                 None   \n",
       "2      Children's Intercultural Environment Advocate                 None   \n",
       "3  Practice Foreigner Language | Discuss World Is...                 None   \n",
       "4                Assistant English Teacher at Influx                 None   \n",
       "\n",
       "  opportunity_sub_product_name opportunity_programme_short_name_display  \\\n",
       "0                        Other                                      GTa   \n",
       "1                          NaN                                       GV   \n",
       "2                          NaN                                       GV   \n",
       "3                          NaN                                       GV   \n",
       "4                          NaN                                      GTe   \n",
       "\n",
       "  opportunity_sub_product  \n",
       "0                     NaN  \n",
       "1                     NaN  \n",
       "2                     NaN  \n",
       "3                     NaN  \n",
       "4                     NaN  \n",
       "\n",
       "[5 rows x 26 columns]"
      ],
      "text/html": "<div>\n<style scoped>\n    .dataframe tbody tr th:only-of-type {\n        vertical-align: middle;\n    }\n\n    .dataframe tbody tr th {\n        vertical-align: top;\n    }\n\n    .dataframe thead th {\n        text-align: right;\n    }\n</style>\n<table border=\"1\" class=\"dataframe\">\n  <thead>\n    <tr style=\"text-align: right;\">\n      <th></th>\n      <th>id</th>\n      <th>status</th>\n      <th>created_at</th>\n      <th>date_matched</th>\n      <th>date_pay_by_cash</th>\n      <th>date_approved</th>\n      <th>date_realized</th>\n      <th>experience_start_date</th>\n      <th>experience_end_date</th>\n      <th>date_approval_broken</th>\n      <th>...</th>\n      <th>person_home_lc_name</th>\n      <th>host_lc_name</th>\n      <th>host_mc_name</th>\n      <th>opportunity_id</th>\n      <th>opportunity_created_at</th>\n      <th>opportunity_title</th>\n      <th>opportunity_duration</th>\n      <th>opportunity_sub_product_name</th>\n      <th>opportunity_programme_short_name_display</th>\n      <th>opportunity_sub_product</th>\n    </tr>\n  </thead>\n  <tbody>\n    <tr>\n      <th>0</th>\n      <td>6162477</td>\n      <td>open</td>\n      <td>2021-05-12T14:49:44Z</td>\n      <td>None</td>\n      <td>None</td>\n      <td>None</td>\n      <td>None</td>\n      <td>None</td>\n      <td>None</td>\n      <td>None</td>\n      <td>...</td>\n      <td>Awal</td>\n      <td>MC France</td>\n      <td>France</td>\n      <td>1274284</td>\n      <td>2021-05-04T13:30:34Z</td>\n      <td>HR Projects Manager</td>\n      <td>None</td>\n      <td>Other</td>\n      <td>GTa</td>\n      <td>NaN</td>\n    </tr>\n    <tr>\n      <th>1</th>\n      <td>6162430</td>\n      <td>matched</td>\n      <td>2021-05-12T13:43:03Z</td>\n      <td>2021-05-14T08:54:53Z</td>\n      <td>None</td>\n      <td>None</td>\n      <td>None</td>\n      <td>None</td>\n      <td>None</td>\n      <td>None</td>\n      <td>...</td>\n      <td>Dilmun</td>\n      <td>COLOMBO CENTRAL</td>\n      <td>Sri Lanka</td>\n      <td>1269589</td>\n      <td>2021-01-21T03:11:15Z</td>\n      <td>Forte - Empowering Sri Lankan Girls &amp; Women</td>\n      <td>None</td>\n      <td>NaN</td>\n      <td>GV</td>\n      <td>NaN</td>\n    </tr>\n    <tr>\n      <th>2</th>\n      <td>6161918</td>\n      <td>open</td>\n      <td>2021-05-11T17:38:19Z</td>\n      <td>None</td>\n      <td>None</td>\n      <td>None</td>\n      <td>None</td>\n      <td>None</td>\n      <td>None</td>\n      <td>None</td>\n      <td>...</td>\n      <td>NSBM</td>\n      <td>Tylos</td>\n      <td>Bahrain</td>\n      <td>1273447</td>\n      <td>2021-04-12T20:21:06Z</td>\n      <td>Children's Intercultural Environment Advocate</td>\n      <td>None</td>\n      <td>NaN</td>\n      <td>GV</td>\n      <td>NaN</td>\n    </tr>\n    <tr>\n      <th>3</th>\n      <td>6159525</td>\n      <td>open</td>\n      <td>2021-05-07T15:21:19Z</td>\n      <td>None</td>\n      <td>None</td>\n      <td>None</td>\n      <td>None</td>\n      <td>None</td>\n      <td>None</td>\n      <td>None</td>\n      <td>...</td>\n      <td>Awal</td>\n      <td>SAMSUN</td>\n      <td>Turkey</td>\n      <td>1267025</td>\n      <td>2020-10-27T15:39:00Z</td>\n      <td>Practice Foreigner Language | Discuss World Is...</td>\n      <td>None</td>\n      <td>NaN</td>\n      <td>GV</td>\n      <td>NaN</td>\n    </tr>\n    <tr>\n      <th>4</th>\n      <td>6158734</td>\n      <td>rejected</td>\n      <td>2021-05-06T16:32:17Z</td>\n      <td>None</td>\n      <td>None</td>\n      <td>None</td>\n      <td>None</td>\n      <td>None</td>\n      <td>None</td>\n      <td>None</td>\n      <td>...</td>\n      <td>Awal</td>\n      <td>SAO CARLOS</td>\n      <td>Brazil</td>\n      <td>1273545</td>\n      <td>2021-04-14T23:12:55Z</td>\n      <td>Assistant English Teacher at Influx</td>\n      <td>None</td>\n      <td>NaN</td>\n      <td>GTe</td>\n      <td>NaN</td>\n    </tr>\n  </tbody>\n</table>\n<p>5 rows × 26 columns</p>\n</div>"
     },
     "metadata": {},
     "execution_count": 4
    }
   ],
   "source": [
    "results.head()"
   ]
  },
  {
   "cell_type": "code",
   "execution_count": 5,
   "metadata": {},
   "outputs": [
    {
     "output_type": "stream",
     "name": "stdout",
     "text": [
      "<class 'pandas.core.frame.DataFrame'>\nRangeIndex: 94 entries, 0 to 93\nData columns (total 26 columns):\n #   Column                                    Non-Null Count  Dtype  \n---  ------                                    --------------  -----  \n 0   id                                        94 non-null     object \n 1   status                                    94 non-null     object \n 2   created_at                                94 non-null     object \n 3   date_matched                              1 non-null      object \n 4   date_pay_by_cash                          0 non-null      object \n 5   date_approved                             0 non-null      object \n 6   date_realized                             0 non-null      object \n 7   experience_start_date                     0 non-null      object \n 8   experience_end_date                       0 non-null      object \n 9   date_approval_broken                      0 non-null      object \n 10  nps_response_completed_at                 0 non-null      object \n 11  updated_at                                94 non-null     object \n 12  standards                                 94 non-null     object \n 13  person_id                                 94 non-null     object \n 14  person_full_name                          94 non-null     object \n 15  person_home_mc_name                       94 non-null     object \n 16  person_home_lc_name                       94 non-null     object \n 17  host_lc_name                              94 non-null     object \n 18  host_mc_name                              94 non-null     object \n 19  opportunity_id                            94 non-null     object \n 20  opportunity_created_at                    94 non-null     object \n 21  opportunity_title                         94 non-null     object \n 22  opportunity_duration                      0 non-null      object \n 23  opportunity_sub_product_name              75 non-null     object \n 24  opportunity_programme_short_name_display  94 non-null     object \n 25  opportunity_sub_product                   0 non-null      float64\ndtypes: float64(1), object(25)\nmemory usage: 19.2+ KB\n"
     ]
    }
   ],
   "source": [
    "results.info()"
   ]
  },
  {
   "source": [
    "### Extract Bahrain LC Names"
   ],
   "cell_type": "markdown",
   "metadata": {}
  },
  {
   "source": [
    "Create new columns for Easy Reading and Indices\n",
    "* LC\n",
    "* LC_ID*\n",
    "* Department\n",
    "* Partner_MC\n",
    "* Partner_LC\n",
    "\n",
    "*-Probably do need it for verification"
   ],
   "cell_type": "markdown",
   "metadata": {}
  },
  {
   "cell_type": "code",
   "execution_count": 23,
   "metadata": {},
   "outputs": [
    {
     "output_type": "execute_result",
     "data": {
      "text/plain": [
       "  dept_prefix            lc partner_mc       partner_lc\n",
       "0           o          Awal     France        MC France\n",
       "1           o        Dilmun  Sri Lanka  COLOMBO CENTRAL\n",
       "2           i         Tylos  Sri Lanka             NSBM\n",
       "3           o          Awal     Turkey           SAMSUN\n",
       "4           o          Awal     Brazil       SAO CARLOS\n",
       "5           o         Tylos     Turkey            IZMIR\n",
       "6           o        Dilmun  Sri Lanka  COLOMBO CENTRAL\n",
       "7           o        Dilmun     Turkey           ANKARA\n",
       "8           o  (Closed ASU)  Sri Lanka  COLOMBO CENTRAL\n",
       "9           o  (Closed ASU)     Turkey        ESKISEHIR"
      ],
      "text/html": "<div>\n<style scoped>\n    .dataframe tbody tr th:only-of-type {\n        vertical-align: middle;\n    }\n\n    .dataframe tbody tr th {\n        vertical-align: top;\n    }\n\n    .dataframe thead th {\n        text-align: right;\n    }\n</style>\n<table border=\"1\" class=\"dataframe\">\n  <thead>\n    <tr style=\"text-align: right;\">\n      <th></th>\n      <th>dept_prefix</th>\n      <th>lc</th>\n      <th>partner_mc</th>\n      <th>partner_lc</th>\n    </tr>\n  </thead>\n  <tbody>\n    <tr>\n      <th>0</th>\n      <td>o</td>\n      <td>Awal</td>\n      <td>France</td>\n      <td>MC France</td>\n    </tr>\n    <tr>\n      <th>1</th>\n      <td>o</td>\n      <td>Dilmun</td>\n      <td>Sri Lanka</td>\n      <td>COLOMBO CENTRAL</td>\n    </tr>\n    <tr>\n      <th>2</th>\n      <td>i</td>\n      <td>Tylos</td>\n      <td>Sri Lanka</td>\n      <td>NSBM</td>\n    </tr>\n    <tr>\n      <th>3</th>\n      <td>o</td>\n      <td>Awal</td>\n      <td>Turkey</td>\n      <td>SAMSUN</td>\n    </tr>\n    <tr>\n      <th>4</th>\n      <td>o</td>\n      <td>Awal</td>\n      <td>Brazil</td>\n      <td>SAO CARLOS</td>\n    </tr>\n    <tr>\n      <th>5</th>\n      <td>o</td>\n      <td>Tylos</td>\n      <td>Turkey</td>\n      <td>IZMIR</td>\n    </tr>\n    <tr>\n      <th>6</th>\n      <td>o</td>\n      <td>Dilmun</td>\n      <td>Sri Lanka</td>\n      <td>COLOMBO CENTRAL</td>\n    </tr>\n    <tr>\n      <th>7</th>\n      <td>o</td>\n      <td>Dilmun</td>\n      <td>Turkey</td>\n      <td>ANKARA</td>\n    </tr>\n    <tr>\n      <th>8</th>\n      <td>o</td>\n      <td>(Closed ASU)</td>\n      <td>Sri Lanka</td>\n      <td>COLOMBO CENTRAL</td>\n    </tr>\n    <tr>\n      <th>9</th>\n      <td>o</td>\n      <td>(Closed ASU)</td>\n      <td>Turkey</td>\n      <td>ESKISEHIR</td>\n    </tr>\n  </tbody>\n</table>\n</div>"
     },
     "metadata": {},
     "execution_count": 23
    }
   ],
   "source": [
    "# Create new multi-indices for grouping\n",
    "new_cols = ['dept_prefix', 'lc', 'partner_mc', 'partner_lc']\n",
    "\n",
    "def generate_new_fields(row):\n",
    "\n",
    "    if row['person_home_mc_name'] == 'Bahrain':\n",
    "        values = ['o', row['person_home_lc_name'],\n",
    "                  row['host_mc_name'], row['host_lc_name']]\n",
    "    else:\n",
    "        values = ['i', row['host_lc_name'],\n",
    "                  row['person_home_mc_name'], row['person_home_lc_name']]\n",
    "\n",
    "    return dict(zip(new_cols, values))\n",
    "\n",
    "results[new_cols] = results.apply(lambda row: generate_new_fields(row), axis=1, result_type='expand')\n",
    "results[new_cols].head(10)"
   ]
  },
  {
   "cell_type": "code",
   "execution_count": 33,
   "metadata": {},
   "outputs": [
    {
     "output_type": "error",
     "ename": "AttributeError",
     "evalue": "'DataFrame' object has no attribute 'opportunity_programme_short_name_display'",
     "traceback": [
      "\u001b[0;31m---------------------------------------------------------------------------\u001b[0m",
      "\u001b[0;31mAttributeError\u001b[0m                            Traceback (most recent call last)",
      "\u001b[0;32m<ipython-input-33-223b76df1696>\u001b[0m in \u001b[0;36m<module>\u001b[0;34m\u001b[0m\n\u001b[1;32m      1\u001b[0m \u001b[0;31m# Create a new field 'department' with incoming and outgoing labels as prefix\u001b[0m\u001b[0;34m\u001b[0m\u001b[0;34m\u001b[0m\u001b[0;34m\u001b[0m\u001b[0m\n\u001b[0;32m----> 2\u001b[0;31m \u001b[0mresults\u001b[0m\u001b[0;34m[\u001b[0m\u001b[0;34m'department'\u001b[0m\u001b[0;34m]\u001b[0m \u001b[0;34m=\u001b[0m \u001b[0mresults\u001b[0m\u001b[0;34m.\u001b[0m\u001b[0mdept_prefix\u001b[0m \u001b[0;34m+\u001b[0m \u001b[0mresults\u001b[0m\u001b[0;34m.\u001b[0m\u001b[0mopportunity_programme_short_name_display\u001b[0m\u001b[0;34m\u001b[0m\u001b[0;34m\u001b[0m\u001b[0m\n\u001b[0m\u001b[1;32m      3\u001b[0m \u001b[0mresults\u001b[0m\u001b[0;34m.\u001b[0m\u001b[0mdrop\u001b[0m\u001b[0;34m(\u001b[0m\u001b[0;34m'opportunity_programme_short_name_display'\u001b[0m\u001b[0;34m,\u001b[0m \u001b[0minplace\u001b[0m\u001b[0;34m=\u001b[0m\u001b[0;32mTrue\u001b[0m\u001b[0;34m,\u001b[0m \u001b[0maxis\u001b[0m\u001b[0;34m=\u001b[0m\u001b[0;36m1\u001b[0m\u001b[0;34m)\u001b[0m\u001b[0;34m\u001b[0m\u001b[0;34m\u001b[0m\u001b[0m\n\u001b[1;32m      4\u001b[0m \u001b[0mresults\u001b[0m\u001b[0;34m[\u001b[0m\u001b[0;34m'department'\u001b[0m\u001b[0;34m]\u001b[0m\u001b[0;34m\u001b[0m\u001b[0;34m\u001b[0m\u001b[0m\n",
      "\u001b[0;32m~/Envs/expa-bh-analytics/lib/python3.8/site-packages/pandas/core/generic.py\u001b[0m in \u001b[0;36m__getattr__\u001b[0;34m(self, name)\u001b[0m\n\u001b[1;32m   5463\u001b[0m             \u001b[0;32mif\u001b[0m \u001b[0mself\u001b[0m\u001b[0;34m.\u001b[0m\u001b[0m_info_axis\u001b[0m\u001b[0;34m.\u001b[0m\u001b[0m_can_hold_identifiers_and_holds_name\u001b[0m\u001b[0;34m(\u001b[0m\u001b[0mname\u001b[0m\u001b[0;34m)\u001b[0m\u001b[0;34m:\u001b[0m\u001b[0;34m\u001b[0m\u001b[0;34m\u001b[0m\u001b[0m\n\u001b[1;32m   5464\u001b[0m                 \u001b[0;32mreturn\u001b[0m \u001b[0mself\u001b[0m\u001b[0;34m[\u001b[0m\u001b[0mname\u001b[0m\u001b[0;34m]\u001b[0m\u001b[0;34m\u001b[0m\u001b[0;34m\u001b[0m\u001b[0m\n\u001b[0;32m-> 5465\u001b[0;31m             \u001b[0;32mreturn\u001b[0m \u001b[0mobject\u001b[0m\u001b[0;34m.\u001b[0m\u001b[0m__getattribute__\u001b[0m\u001b[0;34m(\u001b[0m\u001b[0mself\u001b[0m\u001b[0;34m,\u001b[0m \u001b[0mname\u001b[0m\u001b[0;34m)\u001b[0m\u001b[0;34m\u001b[0m\u001b[0;34m\u001b[0m\u001b[0m\n\u001b[0m\u001b[1;32m   5466\u001b[0m \u001b[0;34m\u001b[0m\u001b[0m\n\u001b[1;32m   5467\u001b[0m     \u001b[0;32mdef\u001b[0m \u001b[0m__setattr__\u001b[0m\u001b[0;34m(\u001b[0m\u001b[0mself\u001b[0m\u001b[0;34m,\u001b[0m \u001b[0mname\u001b[0m\u001b[0;34m:\u001b[0m \u001b[0mstr\u001b[0m\u001b[0;34m,\u001b[0m \u001b[0mvalue\u001b[0m\u001b[0;34m)\u001b[0m \u001b[0;34m->\u001b[0m \u001b[0;32mNone\u001b[0m\u001b[0;34m:\u001b[0m\u001b[0;34m\u001b[0m\u001b[0;34m\u001b[0m\u001b[0m\n",
      "\u001b[0;31mAttributeError\u001b[0m: 'DataFrame' object has no attribute 'opportunity_programme_short_name_display'"
     ]
    }
   ],
   "source": [
    "# Create a new field 'department' with incoming and outgoing labels as prefix\n",
    "results['department'] = results.dept_prefix + results.opportunity_programme_short_name_display\n",
    "results.drop('opportunity_programme_short_name_display', inplace=True, axis=1)\n",
    "results['department']"
   ]
  },
  {
   "source": [
    "### Shorten datetime stamps"
   ],
   "cell_type": "markdown",
   "metadata": {}
  },
  {
   "cell_type": "code",
   "execution_count": 46,
   "metadata": {},
   "outputs": [
    {
     "output_type": "stream",
     "name": "stderr",
     "text": [
      "/home/isa/Envs/expa-bh-analytics/lib/python3.8/site-packages/pandas/core/frame.py:3191: SettingWithCopyWarning: \nA value is trying to be set on a copy of a slice from a DataFrame.\nTry using .loc[row_indexer,col_indexer] = value instead\n\nSee the caveats in the documentation: https://pandas.pydata.org/pandas-docs/stable/user_guide/indexing.html#returning-a-view-versus-a-copy\n  self[k1] = value[k2]\n"
     ]
    },
    {
     "output_type": "execute_result",
     "data": {
      "text/plain": [
       "   id  created_at date_matched date_approved date_realized  updated_at  \\\n",
       "0      2021-05-12         None          None          None  2021-05-12   \n",
       "1      2021-05-12   2021-05-14          None          None  2021-05-14   \n",
       "2      2021-05-11         None          None          None  2021-05-11   \n",
       "3      2021-05-07         None          None          None  2021-05-07   \n",
       "4      2021-05-06         None          None          None  2021-05-06   \n",
       ".. ..         ...          ...           ...           ...         ...   \n",
       "89     2021-02-21         None          None          None  2021-02-28   \n",
       "90     2021-02-08         None          None          None  2021-04-09   \n",
       "91     2021-02-06         None          None          None  2021-02-07   \n",
       "92     2021-02-05         None          None          None  2021-04-06   \n",
       "93     2021-02-02         None          None          None  2021-02-08   \n",
       "\n",
       "               lc department partner_mc  \\\n",
       "0            Awal       oGTa     France   \n",
       "1          Dilmun        oGV  Sri Lanka   \n",
       "2           Tylos        iGV  Sri Lanka   \n",
       "3            Awal        oGV     Turkey   \n",
       "4            Awal       oGTe     Brazil   \n",
       "..            ...        ...        ...   \n",
       "89  (Closed RCSI)        oGV     Brazil   \n",
       "90           Awal       oGTa   Malaysia   \n",
       "91         Dilmun        oGV      Egypt   \n",
       "92         Dilmun        oGV      Egypt   \n",
       "93          Tylos       oGTa    Germany   \n",
       "\n",
       "                                partner_lc  \n",
       "0                                MC France  \n",
       "1                          COLOMBO CENTRAL  \n",
       "2                                     NSBM  \n",
       "3                                   SAMSUN  \n",
       "4                               SAO CARLOS  \n",
       "..                                     ...  \n",
       "89                              SAO CARLOS  \n",
       "90  Taylor's University (TU) , Subang Jaya  \n",
       "91                           AAST In CAIRO  \n",
       "92                           AAST In CAIRO  \n",
       "93                                    BONN  \n",
       "\n",
       "[94 rows x 10 columns]"
      ],
      "text/html": "<div>\n<style scoped>\n    .dataframe tbody tr th:only-of-type {\n        vertical-align: middle;\n    }\n\n    .dataframe tbody tr th {\n        vertical-align: top;\n    }\n\n    .dataframe thead th {\n        text-align: right;\n    }\n</style>\n<table border=\"1\" class=\"dataframe\">\n  <thead>\n    <tr style=\"text-align: right;\">\n      <th></th>\n      <th>id</th>\n      <th>created_at</th>\n      <th>date_matched</th>\n      <th>date_approved</th>\n      <th>date_realized</th>\n      <th>updated_at</th>\n      <th>lc</th>\n      <th>department</th>\n      <th>partner_mc</th>\n      <th>partner_lc</th>\n    </tr>\n  </thead>\n  <tbody>\n    <tr>\n      <th>0</th>\n      <td></td>\n      <td>2021-05-12</td>\n      <td>None</td>\n      <td>None</td>\n      <td>None</td>\n      <td>2021-05-12</td>\n      <td>Awal</td>\n      <td>oGTa</td>\n      <td>France</td>\n      <td>MC France</td>\n    </tr>\n    <tr>\n      <th>1</th>\n      <td></td>\n      <td>2021-05-12</td>\n      <td>2021-05-14</td>\n      <td>None</td>\n      <td>None</td>\n      <td>2021-05-14</td>\n      <td>Dilmun</td>\n      <td>oGV</td>\n      <td>Sri Lanka</td>\n      <td>COLOMBO CENTRAL</td>\n    </tr>\n    <tr>\n      <th>2</th>\n      <td></td>\n      <td>2021-05-11</td>\n      <td>None</td>\n      <td>None</td>\n      <td>None</td>\n      <td>2021-05-11</td>\n      <td>Tylos</td>\n      <td>iGV</td>\n      <td>Sri Lanka</td>\n      <td>NSBM</td>\n    </tr>\n    <tr>\n      <th>3</th>\n      <td></td>\n      <td>2021-05-07</td>\n      <td>None</td>\n      <td>None</td>\n      <td>None</td>\n      <td>2021-05-07</td>\n      <td>Awal</td>\n      <td>oGV</td>\n      <td>Turkey</td>\n      <td>SAMSUN</td>\n    </tr>\n    <tr>\n      <th>4</th>\n      <td></td>\n      <td>2021-05-06</td>\n      <td>None</td>\n      <td>None</td>\n      <td>None</td>\n      <td>2021-05-06</td>\n      <td>Awal</td>\n      <td>oGTe</td>\n      <td>Brazil</td>\n      <td>SAO CARLOS</td>\n    </tr>\n    <tr>\n      <th>...</th>\n      <td>...</td>\n      <td>...</td>\n      <td>...</td>\n      <td>...</td>\n      <td>...</td>\n      <td>...</td>\n      <td>...</td>\n      <td>...</td>\n      <td>...</td>\n      <td>...</td>\n    </tr>\n    <tr>\n      <th>89</th>\n      <td></td>\n      <td>2021-02-21</td>\n      <td>None</td>\n      <td>None</td>\n      <td>None</td>\n      <td>2021-02-28</td>\n      <td>(Closed RCSI)</td>\n      <td>oGV</td>\n      <td>Brazil</td>\n      <td>SAO CARLOS</td>\n    </tr>\n    <tr>\n      <th>90</th>\n      <td></td>\n      <td>2021-02-08</td>\n      <td>None</td>\n      <td>None</td>\n      <td>None</td>\n      <td>2021-04-09</td>\n      <td>Awal</td>\n      <td>oGTa</td>\n      <td>Malaysia</td>\n      <td>Taylor's University (TU) , Subang Jaya</td>\n    </tr>\n    <tr>\n      <th>91</th>\n      <td></td>\n      <td>2021-02-06</td>\n      <td>None</td>\n      <td>None</td>\n      <td>None</td>\n      <td>2021-02-07</td>\n      <td>Dilmun</td>\n      <td>oGV</td>\n      <td>Egypt</td>\n      <td>AAST In CAIRO</td>\n    </tr>\n    <tr>\n      <th>92</th>\n      <td></td>\n      <td>2021-02-05</td>\n      <td>None</td>\n      <td>None</td>\n      <td>None</td>\n      <td>2021-04-06</td>\n      <td>Dilmun</td>\n      <td>oGV</td>\n      <td>Egypt</td>\n      <td>AAST In CAIRO</td>\n    </tr>\n    <tr>\n      <th>93</th>\n      <td></td>\n      <td>2021-02-02</td>\n      <td>None</td>\n      <td>None</td>\n      <td>None</td>\n      <td>2021-02-08</td>\n      <td>Tylos</td>\n      <td>oGTa</td>\n      <td>Germany</td>\n      <td>BONN</td>\n    </tr>\n  </tbody>\n</table>\n<p>94 rows × 10 columns</p>\n</div>"
     },
     "metadata": {},
     "execution_count": 46
    }
   ],
   "source": [
    "\n",
    "date_cols = ['id', 'created_at', 'date_matched', 'date_approved', 'date_realized', 'updated_at']\n",
    "multi_indices = ['lc', 'department', 'partner_mc', 'partner_lc']\n",
    "\n",
    "perf_table = results[date_cols + multi_indices]\n",
    "perf_table[date_cols] = perf_table[date_cols].applymap(lambda x: x[:-10], na_action='ignore')\n",
    "perf_table\n"
   ]
  },
  {
   "cell_type": "code",
   "execution_count": 50,
   "metadata": {},
   "outputs": [
    {
     "output_type": "execute_result",
     "data": {
      "text/plain": [
       "                                                                                                 id\n",
       "created_at lc            department partner_mc           partner_lc                                \n",
       "2021-02-02 Tylos         oGTa       Germany              BONN                                     1\n",
       "2021-02-05 Dilmun        oGV        Egypt                AAST In CAIRO                            1\n",
       "2021-02-06 Dilmun        oGV        Egypt                AAST In CAIRO                            1\n",
       "2021-02-08 Awal          oGTa       Malaysia             Taylor's University (TU) , Subang Jaya   1\n",
       "2021-02-21 (Closed RCSI) oGV        Brazil               SAO CARLOS                               1\n",
       "2021-02-28 (Closed RCSI) oGV        Turkey               KONYA                                    1\n",
       "2021-03-02 Awal          oGTa       Egypt                Cairo University                         1\n",
       "                                                         GUC                                      1\n",
       "                                                         MIU                                      1\n",
       "2021-03-12 Awal          oGTa       United States        NEW YORK CITY                            1\n",
       "2021-03-16 Tylos         oGTa       Germany              BONN                                     1\n",
       "2021-03-18 Awal          oGTe       Egypt                Ain Shams University                     1\n",
       "                                                         Cairo University                         1\n",
       "                                                         GUC                                      1\n",
       "2021-03-22 Awal          oGTa       United Arab Emirates UAE (MC)                                 1\n",
       "2021-03-23 Dilmun        oGTa       United Arab Emirates UAE (MC)                                 3\n",
       "2021-03-24 Awal          oGTa       United Arab Emirates UAE (MC)                                 2\n",
       "2021-03-25 Dilmun        oGTa       United Arab Emirates UAE (MC)                                 3\n",
       "2021-03-26 Awal          oGTa       United Arab Emirates UAE (MC)                                 3\n",
       "           Dilmun        oGTa       United Arab Emirates UAE (MC)                                 1\n",
       "2021-03-27 Dilmun        oGTa       United Arab Emirates UAE (MC)                                 3\n",
       "2021-03-28 (Closed ASU)  oGTa       United Arab Emirates UAE (MC)                                 1\n",
       "           Dilmun        oGTa       United Arab Emirates UAE (MC)                                 1\n",
       "2021-03-29 Tylos         oGTa       United Arab Emirates UAE (MC)                                 2\n",
       "2021-03-30 (Closed RCSI) oGTa       United Arab Emirates UAE (MC)                                 2\n",
       "           Awal          oGTa       United Arab Emirates UAE (MC)                                 5\n",
       "           Dilmun        oGTa       United Arab Emirates UAE (MC)                                 9\n",
       "           Tylos         oGTa       United Arab Emirates UAE (MC)                                 2\n",
       "2021-03-31 Awal          oGTa       United Arab Emirates UAE (MC)                                 1\n",
       "           Dilmun        oGTa       United Arab Emirates UAE (MC)                                 8\n",
       "           Tylos         oGTa       United Arab Emirates UAE (MC)                                 7\n",
       "2021-04-01 Tylos         oGTa       Germany              BONN                                     1\n",
       "2021-04-02 (Closed ASU)  oGTa       United Arab Emirates UAE (MC)                                 1\n",
       "2021-04-04 (Closed RCSI) oGTa       United Arab Emirates UAE (MC)                                 1\n",
       "2021-04-06 Dilmun        oGTa       United Arab Emirates UAE (MC)                                 1\n",
       "2021-04-08 Awal          oGTa       United Arab Emirates UAE (MC)                                 1\n",
       "           Dilmun        oGTa       United Arab Emirates UAE (MC)                                 1\n",
       "           Tylos         oGTa       Belgium              Belgium (National)                       1\n",
       "2021-04-09 Dilmun        oGTe       Tunisia              MEDINA                                   1\n",
       "                                    Turkey               KOCAELI                                  1\n",
       "2021-04-11 Awal          oGTa       France               MC France                                1\n",
       "2021-04-24 Awal          oGTa       Hungary              BUDAPEST UNIVERSITY                      1\n",
       "                                    Slovakia             Comenius University                      1\n",
       "                                    Turkey               IZMIR                                    1\n",
       "2021-04-26 Awal          oGTa       France               MC France                                1\n",
       "2021-04-29 Dilmun        oGV        Sri Lanka            COLOMBO CENTRAL                          1\n",
       "2021-05-01 Dilmun        oGV        Ukraine              KHARKIV                                  1\n",
       "2021-05-02 (Closed ASU)  oGV        Turkey               ESKISEHIR                                1\n",
       "2021-05-03 (Closed ASU)  oGV        Sri Lanka            COLOMBO CENTRAL                          1\n",
       "2021-05-05 Dilmun        oGV        Turkey               ANKARA                                   1\n",
       "2021-05-06 Awal          oGTe       Brazil               SAO CARLOS                               1\n",
       "           Dilmun        oGV        Sri Lanka            COLOMBO CENTRAL                          1\n",
       "           Tylos         oGTa       Turkey               IZMIR                                    1\n",
       "2021-05-07 Awal          oGV        Turkey               SAMSUN                                   1\n",
       "2021-05-11 Tylos         iGV        Sri Lanka            NSBM                                     1\n",
       "2021-05-12 Awal          oGTa       France               MC France                                1\n",
       "           Dilmun        oGV        Sri Lanka            COLOMBO CENTRAL                          1"
      ],
      "text/html": "<div>\n<style scoped>\n    .dataframe tbody tr th:only-of-type {\n        vertical-align: middle;\n    }\n\n    .dataframe tbody tr th {\n        vertical-align: top;\n    }\n\n    .dataframe thead th {\n        text-align: right;\n    }\n</style>\n<table border=\"1\" class=\"dataframe\">\n  <thead>\n    <tr style=\"text-align: right;\">\n      <th></th>\n      <th></th>\n      <th></th>\n      <th></th>\n      <th></th>\n      <th>id</th>\n    </tr>\n    <tr>\n      <th>created_at</th>\n      <th>lc</th>\n      <th>department</th>\n      <th>partner_mc</th>\n      <th>partner_lc</th>\n      <th></th>\n    </tr>\n  </thead>\n  <tbody>\n    <tr>\n      <th>2021-02-02</th>\n      <th>Tylos</th>\n      <th>oGTa</th>\n      <th>Germany</th>\n      <th>BONN</th>\n      <td>1</td>\n    </tr>\n    <tr>\n      <th>2021-02-05</th>\n      <th>Dilmun</th>\n      <th>oGV</th>\n      <th>Egypt</th>\n      <th>AAST In CAIRO</th>\n      <td>1</td>\n    </tr>\n    <tr>\n      <th>2021-02-06</th>\n      <th>Dilmun</th>\n      <th>oGV</th>\n      <th>Egypt</th>\n      <th>AAST In CAIRO</th>\n      <td>1</td>\n    </tr>\n    <tr>\n      <th>2021-02-08</th>\n      <th>Awal</th>\n      <th>oGTa</th>\n      <th>Malaysia</th>\n      <th>Taylor's University (TU) , Subang Jaya</th>\n      <td>1</td>\n    </tr>\n    <tr>\n      <th>2021-02-21</th>\n      <th>(Closed RCSI)</th>\n      <th>oGV</th>\n      <th>Brazil</th>\n      <th>SAO CARLOS</th>\n      <td>1</td>\n    </tr>\n    <tr>\n      <th>2021-02-28</th>\n      <th>(Closed RCSI)</th>\n      <th>oGV</th>\n      <th>Turkey</th>\n      <th>KONYA</th>\n      <td>1</td>\n    </tr>\n    <tr>\n      <th rowspan=\"3\" valign=\"top\">2021-03-02</th>\n      <th rowspan=\"3\" valign=\"top\">Awal</th>\n      <th rowspan=\"3\" valign=\"top\">oGTa</th>\n      <th rowspan=\"3\" valign=\"top\">Egypt</th>\n      <th>Cairo University</th>\n      <td>1</td>\n    </tr>\n    <tr>\n      <th>GUC</th>\n      <td>1</td>\n    </tr>\n    <tr>\n      <th>MIU</th>\n      <td>1</td>\n    </tr>\n    <tr>\n      <th>2021-03-12</th>\n      <th>Awal</th>\n      <th>oGTa</th>\n      <th>United States</th>\n      <th>NEW YORK CITY</th>\n      <td>1</td>\n    </tr>\n    <tr>\n      <th>2021-03-16</th>\n      <th>Tylos</th>\n      <th>oGTa</th>\n      <th>Germany</th>\n      <th>BONN</th>\n      <td>1</td>\n    </tr>\n    <tr>\n      <th rowspan=\"3\" valign=\"top\">2021-03-18</th>\n      <th rowspan=\"3\" valign=\"top\">Awal</th>\n      <th rowspan=\"3\" valign=\"top\">oGTe</th>\n      <th rowspan=\"3\" valign=\"top\">Egypt</th>\n      <th>Ain Shams University</th>\n      <td>1</td>\n    </tr>\n    <tr>\n      <th>Cairo University</th>\n      <td>1</td>\n    </tr>\n    <tr>\n      <th>GUC</th>\n      <td>1</td>\n    </tr>\n    <tr>\n      <th>2021-03-22</th>\n      <th>Awal</th>\n      <th>oGTa</th>\n      <th>United Arab Emirates</th>\n      <th>UAE (MC)</th>\n      <td>1</td>\n    </tr>\n    <tr>\n      <th>2021-03-23</th>\n      <th>Dilmun</th>\n      <th>oGTa</th>\n      <th>United Arab Emirates</th>\n      <th>UAE (MC)</th>\n      <td>3</td>\n    </tr>\n    <tr>\n      <th>2021-03-24</th>\n      <th>Awal</th>\n      <th>oGTa</th>\n      <th>United Arab Emirates</th>\n      <th>UAE (MC)</th>\n      <td>2</td>\n    </tr>\n    <tr>\n      <th>2021-03-25</th>\n      <th>Dilmun</th>\n      <th>oGTa</th>\n      <th>United Arab Emirates</th>\n      <th>UAE (MC)</th>\n      <td>3</td>\n    </tr>\n    <tr>\n      <th rowspan=\"2\" valign=\"top\">2021-03-26</th>\n      <th>Awal</th>\n      <th>oGTa</th>\n      <th>United Arab Emirates</th>\n      <th>UAE (MC)</th>\n      <td>3</td>\n    </tr>\n    <tr>\n      <th>Dilmun</th>\n      <th>oGTa</th>\n      <th>United Arab Emirates</th>\n      <th>UAE (MC)</th>\n      <td>1</td>\n    </tr>\n    <tr>\n      <th>2021-03-27</th>\n      <th>Dilmun</th>\n      <th>oGTa</th>\n      <th>United Arab Emirates</th>\n      <th>UAE (MC)</th>\n      <td>3</td>\n    </tr>\n    <tr>\n      <th rowspan=\"2\" valign=\"top\">2021-03-28</th>\n      <th>(Closed ASU)</th>\n      <th>oGTa</th>\n      <th>United Arab Emirates</th>\n      <th>UAE (MC)</th>\n      <td>1</td>\n    </tr>\n    <tr>\n      <th>Dilmun</th>\n      <th>oGTa</th>\n      <th>United Arab Emirates</th>\n      <th>UAE (MC)</th>\n      <td>1</td>\n    </tr>\n    <tr>\n      <th>2021-03-29</th>\n      <th>Tylos</th>\n      <th>oGTa</th>\n      <th>United Arab Emirates</th>\n      <th>UAE (MC)</th>\n      <td>2</td>\n    </tr>\n    <tr>\n      <th rowspan=\"4\" valign=\"top\">2021-03-30</th>\n      <th>(Closed RCSI)</th>\n      <th>oGTa</th>\n      <th>United Arab Emirates</th>\n      <th>UAE (MC)</th>\n      <td>2</td>\n    </tr>\n    <tr>\n      <th>Awal</th>\n      <th>oGTa</th>\n      <th>United Arab Emirates</th>\n      <th>UAE (MC)</th>\n      <td>5</td>\n    </tr>\n    <tr>\n      <th>Dilmun</th>\n      <th>oGTa</th>\n      <th>United Arab Emirates</th>\n      <th>UAE (MC)</th>\n      <td>9</td>\n    </tr>\n    <tr>\n      <th>Tylos</th>\n      <th>oGTa</th>\n      <th>United Arab Emirates</th>\n      <th>UAE (MC)</th>\n      <td>2</td>\n    </tr>\n    <tr>\n      <th rowspan=\"3\" valign=\"top\">2021-03-31</th>\n      <th>Awal</th>\n      <th>oGTa</th>\n      <th>United Arab Emirates</th>\n      <th>UAE (MC)</th>\n      <td>1</td>\n    </tr>\n    <tr>\n      <th>Dilmun</th>\n      <th>oGTa</th>\n      <th>United Arab Emirates</th>\n      <th>UAE (MC)</th>\n      <td>8</td>\n    </tr>\n    <tr>\n      <th>Tylos</th>\n      <th>oGTa</th>\n      <th>United Arab Emirates</th>\n      <th>UAE (MC)</th>\n      <td>7</td>\n    </tr>\n    <tr>\n      <th>2021-04-01</th>\n      <th>Tylos</th>\n      <th>oGTa</th>\n      <th>Germany</th>\n      <th>BONN</th>\n      <td>1</td>\n    </tr>\n    <tr>\n      <th>2021-04-02</th>\n      <th>(Closed ASU)</th>\n      <th>oGTa</th>\n      <th>United Arab Emirates</th>\n      <th>UAE (MC)</th>\n      <td>1</td>\n    </tr>\n    <tr>\n      <th>2021-04-04</th>\n      <th>(Closed RCSI)</th>\n      <th>oGTa</th>\n      <th>United Arab Emirates</th>\n      <th>UAE (MC)</th>\n      <td>1</td>\n    </tr>\n    <tr>\n      <th>2021-04-06</th>\n      <th>Dilmun</th>\n      <th>oGTa</th>\n      <th>United Arab Emirates</th>\n      <th>UAE (MC)</th>\n      <td>1</td>\n    </tr>\n    <tr>\n      <th rowspan=\"3\" valign=\"top\">2021-04-08</th>\n      <th>Awal</th>\n      <th>oGTa</th>\n      <th>United Arab Emirates</th>\n      <th>UAE (MC)</th>\n      <td>1</td>\n    </tr>\n    <tr>\n      <th>Dilmun</th>\n      <th>oGTa</th>\n      <th>United Arab Emirates</th>\n      <th>UAE (MC)</th>\n      <td>1</td>\n    </tr>\n    <tr>\n      <th>Tylos</th>\n      <th>oGTa</th>\n      <th>Belgium</th>\n      <th>Belgium (National)</th>\n      <td>1</td>\n    </tr>\n    <tr>\n      <th rowspan=\"2\" valign=\"top\">2021-04-09</th>\n      <th rowspan=\"2\" valign=\"top\">Dilmun</th>\n      <th rowspan=\"2\" valign=\"top\">oGTe</th>\n      <th>Tunisia</th>\n      <th>MEDINA</th>\n      <td>1</td>\n    </tr>\n    <tr>\n      <th>Turkey</th>\n      <th>KOCAELI</th>\n      <td>1</td>\n    </tr>\n    <tr>\n      <th>2021-04-11</th>\n      <th>Awal</th>\n      <th>oGTa</th>\n      <th>France</th>\n      <th>MC France</th>\n      <td>1</td>\n    </tr>\n    <tr>\n      <th rowspan=\"3\" valign=\"top\">2021-04-24</th>\n      <th rowspan=\"3\" valign=\"top\">Awal</th>\n      <th rowspan=\"3\" valign=\"top\">oGTa</th>\n      <th>Hungary</th>\n      <th>BUDAPEST UNIVERSITY</th>\n      <td>1</td>\n    </tr>\n    <tr>\n      <th>Slovakia</th>\n      <th>Comenius University</th>\n      <td>1</td>\n    </tr>\n    <tr>\n      <th>Turkey</th>\n      <th>IZMIR</th>\n      <td>1</td>\n    </tr>\n    <tr>\n      <th>2021-04-26</th>\n      <th>Awal</th>\n      <th>oGTa</th>\n      <th>France</th>\n      <th>MC France</th>\n      <td>1</td>\n    </tr>\n    <tr>\n      <th>2021-04-29</th>\n      <th>Dilmun</th>\n      <th>oGV</th>\n      <th>Sri Lanka</th>\n      <th>COLOMBO CENTRAL</th>\n      <td>1</td>\n    </tr>\n    <tr>\n      <th>2021-05-01</th>\n      <th>Dilmun</th>\n      <th>oGV</th>\n      <th>Ukraine</th>\n      <th>KHARKIV</th>\n      <td>1</td>\n    </tr>\n    <tr>\n      <th>2021-05-02</th>\n      <th>(Closed ASU)</th>\n      <th>oGV</th>\n      <th>Turkey</th>\n      <th>ESKISEHIR</th>\n      <td>1</td>\n    </tr>\n    <tr>\n      <th>2021-05-03</th>\n      <th>(Closed ASU)</th>\n      <th>oGV</th>\n      <th>Sri Lanka</th>\n      <th>COLOMBO CENTRAL</th>\n      <td>1</td>\n    </tr>\n    <tr>\n      <th>2021-05-05</th>\n      <th>Dilmun</th>\n      <th>oGV</th>\n      <th>Turkey</th>\n      <th>ANKARA</th>\n      <td>1</td>\n    </tr>\n    <tr>\n      <th rowspan=\"3\" valign=\"top\">2021-05-06</th>\n      <th>Awal</th>\n      <th>oGTe</th>\n      <th>Brazil</th>\n      <th>SAO CARLOS</th>\n      <td>1</td>\n    </tr>\n    <tr>\n      <th>Dilmun</th>\n      <th>oGV</th>\n      <th>Sri Lanka</th>\n      <th>COLOMBO CENTRAL</th>\n      <td>1</td>\n    </tr>\n    <tr>\n      <th>Tylos</th>\n      <th>oGTa</th>\n      <th>Turkey</th>\n      <th>IZMIR</th>\n      <td>1</td>\n    </tr>\n    <tr>\n      <th>2021-05-07</th>\n      <th>Awal</th>\n      <th>oGV</th>\n      <th>Turkey</th>\n      <th>SAMSUN</th>\n      <td>1</td>\n    </tr>\n    <tr>\n      <th>2021-05-11</th>\n      <th>Tylos</th>\n      <th>iGV</th>\n      <th>Sri Lanka</th>\n      <th>NSBM</th>\n      <td>1</td>\n    </tr>\n    <tr>\n      <th rowspan=\"2\" valign=\"top\">2021-05-12</th>\n      <th>Awal</th>\n      <th>oGTa</th>\n      <th>France</th>\n      <th>MC France</th>\n      <td>1</td>\n    </tr>\n    <tr>\n      <th>Dilmun</th>\n      <th>oGV</th>\n      <th>Sri Lanka</th>\n      <th>COLOMBO CENTRAL</th>\n      <td>1</td>\n    </tr>\n  </tbody>\n</table>\n</div>"
     },
     "metadata": {},
     "execution_count": 50
    }
   ],
   "source": [
    "perf_table.groupby([\"created_at\", *multi_indices])['id'].count().to_frame()"
   ]
  },
  {
   "cell_type": "code",
   "execution_count": 59,
   "metadata": {},
   "outputs": [
    {
     "output_type": "execute_result",
     "data": {
      "text/plain": [
       "                                                                                                 application  \\\n",
       "date       lc            department partner_mc           partner_lc                                            \n",
       "2021-02-02 Tylos         oGTa       Germany              BONN                                            1.0   \n",
       "2021-02-05 Dilmun        oGV        Egypt                AAST In CAIRO                                   1.0   \n",
       "2021-02-06 Dilmun        oGV        Egypt                AAST In CAIRO                                   1.0   \n",
       "2021-02-08 Awal          oGTa       Malaysia             Taylor's University (TU) , Subang Jaya          1.0   \n",
       "2021-02-21 (Closed RCSI) oGV        Brazil               SAO CARLOS                                      1.0   \n",
       "2021-02-28 (Closed RCSI) oGV        Turkey               KONYA                                           1.0   \n",
       "2021-03-02 Awal          oGTa       Egypt                Cairo University                                1.0   \n",
       "                                                         GUC                                             1.0   \n",
       "                                                         MIU                                             1.0   \n",
       "2021-03-12 Awal          oGTa       United States        NEW YORK CITY                                   1.0   \n",
       "2021-03-16 Tylos         oGTa       Germany              BONN                                            1.0   \n",
       "2021-03-18 Awal          oGTe       Egypt                Ain Shams University                            1.0   \n",
       "                                                         Cairo University                                1.0   \n",
       "                                                         GUC                                             1.0   \n",
       "2021-03-22 Awal          oGTa       United Arab Emirates UAE (MC)                                        1.0   \n",
       "2021-03-23 Dilmun        oGTa       United Arab Emirates UAE (MC)                                        3.0   \n",
       "2021-03-24 Awal          oGTa       United Arab Emirates UAE (MC)                                        2.0   \n",
       "2021-03-25 Dilmun        oGTa       United Arab Emirates UAE (MC)                                        3.0   \n",
       "2021-03-26 Awal          oGTa       United Arab Emirates UAE (MC)                                        3.0   \n",
       "           Dilmun        oGTa       United Arab Emirates UAE (MC)                                        1.0   \n",
       "2021-03-27 Dilmun        oGTa       United Arab Emirates UAE (MC)                                        3.0   \n",
       "2021-03-28 (Closed ASU)  oGTa       United Arab Emirates UAE (MC)                                        1.0   \n",
       "           Dilmun        oGTa       United Arab Emirates UAE (MC)                                        1.0   \n",
       "2021-03-29 Tylos         oGTa       United Arab Emirates UAE (MC)                                        2.0   \n",
       "2021-03-30 (Closed RCSI) oGTa       United Arab Emirates UAE (MC)                                        2.0   \n",
       "           Awal          oGTa       United Arab Emirates UAE (MC)                                        5.0   \n",
       "           Dilmun        oGTa       United Arab Emirates UAE (MC)                                        9.0   \n",
       "           Tylos         oGTa       United Arab Emirates UAE (MC)                                        2.0   \n",
       "2021-03-31 Awal          oGTa       United Arab Emirates UAE (MC)                                        1.0   \n",
       "           Dilmun        oGTa       United Arab Emirates UAE (MC)                                        8.0   \n",
       "           Tylos         oGTa       United Arab Emirates UAE (MC)                                        7.0   \n",
       "2021-04-01 Tylos         oGTa       Germany              BONN                                            1.0   \n",
       "2021-04-02 (Closed ASU)  oGTa       United Arab Emirates UAE (MC)                                        1.0   \n",
       "2021-04-04 (Closed RCSI) oGTa       United Arab Emirates UAE (MC)                                        1.0   \n",
       "2021-04-06 Dilmun        oGTa       United Arab Emirates UAE (MC)                                        1.0   \n",
       "2021-04-08 Awal          oGTa       United Arab Emirates UAE (MC)                                        1.0   \n",
       "           Dilmun        oGTa       United Arab Emirates UAE (MC)                                        1.0   \n",
       "           Tylos         oGTa       Belgium              Belgium (National)                              1.0   \n",
       "2021-04-09 Dilmun        oGTe       Tunisia              MEDINA                                          1.0   \n",
       "                                    Turkey               KOCAELI                                         1.0   \n",
       "2021-04-11 Awal          oGTa       France               MC France                                       1.0   \n",
       "2021-04-24 Awal          oGTa       Hungary              BUDAPEST UNIVERSITY                             1.0   \n",
       "                                    Slovakia             Comenius University                             1.0   \n",
       "                                    Turkey               IZMIR                                           1.0   \n",
       "2021-04-26 Awal          oGTa       France               MC France                                       1.0   \n",
       "2021-04-29 Dilmun        oGV        Sri Lanka            COLOMBO CENTRAL                                 1.0   \n",
       "2021-05-01 Dilmun        oGV        Ukraine              KHARKIV                                         1.0   \n",
       "2021-05-02 (Closed ASU)  oGV        Turkey               ESKISEHIR                                       1.0   \n",
       "2021-05-03 (Closed ASU)  oGV        Sri Lanka            COLOMBO CENTRAL                                 1.0   \n",
       "2021-05-05 Dilmun        oGV        Turkey               ANKARA                                          1.0   \n",
       "2021-05-06 Awal          oGTe       Brazil               SAO CARLOS                                      1.0   \n",
       "           Dilmun        oGV        Sri Lanka            COLOMBO CENTRAL                                 1.0   \n",
       "           Tylos         oGTa       Turkey               IZMIR                                           1.0   \n",
       "2021-05-07 Awal          oGV        Turkey               SAMSUN                                          1.0   \n",
       "2021-05-11 Tylos         iGV        Sri Lanka            NSBM                                            1.0   \n",
       "2021-05-12 Awal          oGTa       France               MC France                                       1.0   \n",
       "           Dilmun        oGV        Sri Lanka            COLOMBO CENTRAL                                 1.0   \n",
       "2021-05-14 Dilmun        oGV        Sri Lanka            COLOMBO CENTRAL                                 NaN   \n",
       "\n",
       "                                                                                                 accepted  \n",
       "date       lc            department partner_mc           partner_lc                                        \n",
       "2021-02-02 Tylos         oGTa       Germany              BONN                                         NaN  \n",
       "2021-02-05 Dilmun        oGV        Egypt                AAST In CAIRO                                NaN  \n",
       "2021-02-06 Dilmun        oGV        Egypt                AAST In CAIRO                                NaN  \n",
       "2021-02-08 Awal          oGTa       Malaysia             Taylor's University (TU) , Subang Jaya       NaN  \n",
       "2021-02-21 (Closed RCSI) oGV        Brazil               SAO CARLOS                                   NaN  \n",
       "2021-02-28 (Closed RCSI) oGV        Turkey               KONYA                                        NaN  \n",
       "2021-03-02 Awal          oGTa       Egypt                Cairo University                             NaN  \n",
       "                                                         GUC                                          NaN  \n",
       "                                                         MIU                                          NaN  \n",
       "2021-03-12 Awal          oGTa       United States        NEW YORK CITY                                NaN  \n",
       "2021-03-16 Tylos         oGTa       Germany              BONN                                         NaN  \n",
       "2021-03-18 Awal          oGTe       Egypt                Ain Shams University                         NaN  \n",
       "                                                         Cairo University                             NaN  \n",
       "                                                         GUC                                          NaN  \n",
       "2021-03-22 Awal          oGTa       United Arab Emirates UAE (MC)                                     NaN  \n",
       "2021-03-23 Dilmun        oGTa       United Arab Emirates UAE (MC)                                     NaN  \n",
       "2021-03-24 Awal          oGTa       United Arab Emirates UAE (MC)                                     NaN  \n",
       "2021-03-25 Dilmun        oGTa       United Arab Emirates UAE (MC)                                     NaN  \n",
       "2021-03-26 Awal          oGTa       United Arab Emirates UAE (MC)                                     NaN  \n",
       "           Dilmun        oGTa       United Arab Emirates UAE (MC)                                     NaN  \n",
       "2021-03-27 Dilmun        oGTa       United Arab Emirates UAE (MC)                                     NaN  \n",
       "2021-03-28 (Closed ASU)  oGTa       United Arab Emirates UAE (MC)                                     NaN  \n",
       "           Dilmun        oGTa       United Arab Emirates UAE (MC)                                     NaN  \n",
       "2021-03-29 Tylos         oGTa       United Arab Emirates UAE (MC)                                     NaN  \n",
       "2021-03-30 (Closed RCSI) oGTa       United Arab Emirates UAE (MC)                                     NaN  \n",
       "           Awal          oGTa       United Arab Emirates UAE (MC)                                     NaN  \n",
       "           Dilmun        oGTa       United Arab Emirates UAE (MC)                                     NaN  \n",
       "           Tylos         oGTa       United Arab Emirates UAE (MC)                                     NaN  \n",
       "2021-03-31 Awal          oGTa       United Arab Emirates UAE (MC)                                     NaN  \n",
       "           Dilmun        oGTa       United Arab Emirates UAE (MC)                                     NaN  \n",
       "           Tylos         oGTa       United Arab Emirates UAE (MC)                                     NaN  \n",
       "2021-04-01 Tylos         oGTa       Germany              BONN                                         NaN  \n",
       "2021-04-02 (Closed ASU)  oGTa       United Arab Emirates UAE (MC)                                     NaN  \n",
       "2021-04-04 (Closed RCSI) oGTa       United Arab Emirates UAE (MC)                                     NaN  \n",
       "2021-04-06 Dilmun        oGTa       United Arab Emirates UAE (MC)                                     NaN  \n",
       "2021-04-08 Awal          oGTa       United Arab Emirates UAE (MC)                                     NaN  \n",
       "           Dilmun        oGTa       United Arab Emirates UAE (MC)                                     NaN  \n",
       "           Tylos         oGTa       Belgium              Belgium (National)                           NaN  \n",
       "2021-04-09 Dilmun        oGTe       Tunisia              MEDINA                                       NaN  \n",
       "                                    Turkey               KOCAELI                                      NaN  \n",
       "2021-04-11 Awal          oGTa       France               MC France                                    NaN  \n",
       "2021-04-24 Awal          oGTa       Hungary              BUDAPEST UNIVERSITY                          NaN  \n",
       "                                    Slovakia             Comenius University                          NaN  \n",
       "                                    Turkey               IZMIR                                        NaN  \n",
       "2021-04-26 Awal          oGTa       France               MC France                                    NaN  \n",
       "2021-04-29 Dilmun        oGV        Sri Lanka            COLOMBO CENTRAL                              NaN  \n",
       "2021-05-01 Dilmun        oGV        Ukraine              KHARKIV                                      NaN  \n",
       "2021-05-02 (Closed ASU)  oGV        Turkey               ESKISEHIR                                    NaN  \n",
       "2021-05-03 (Closed ASU)  oGV        Sri Lanka            COLOMBO CENTRAL                              NaN  \n",
       "2021-05-05 Dilmun        oGV        Turkey               ANKARA                                       NaN  \n",
       "2021-05-06 Awal          oGTe       Brazil               SAO CARLOS                                   NaN  \n",
       "           Dilmun        oGV        Sri Lanka            COLOMBO CENTRAL                              NaN  \n",
       "           Tylos         oGTa       Turkey               IZMIR                                        NaN  \n",
       "2021-05-07 Awal          oGV        Turkey               SAMSUN                                       NaN  \n",
       "2021-05-11 Tylos         iGV        Sri Lanka            NSBM                                         NaN  \n",
       "2021-05-12 Awal          oGTa       France               MC France                                    NaN  \n",
       "           Dilmun        oGV        Sri Lanka            COLOMBO CENTRAL                              NaN  \n",
       "2021-05-14 Dilmun        oGV        Sri Lanka            COLOMBO CENTRAL                              1.0  "
      ],
      "text/html": "<div>\n<style scoped>\n    .dataframe tbody tr th:only-of-type {\n        vertical-align: middle;\n    }\n\n    .dataframe tbody tr th {\n        vertical-align: top;\n    }\n\n    .dataframe thead th {\n        text-align: right;\n    }\n</style>\n<table border=\"1\" class=\"dataframe\">\n  <thead>\n    <tr style=\"text-align: right;\">\n      <th></th>\n      <th></th>\n      <th></th>\n      <th></th>\n      <th></th>\n      <th>application</th>\n      <th>accepted</th>\n    </tr>\n    <tr>\n      <th>date</th>\n      <th>lc</th>\n      <th>department</th>\n      <th>partner_mc</th>\n      <th>partner_lc</th>\n      <th></th>\n      <th></th>\n    </tr>\n  </thead>\n  <tbody>\n    <tr>\n      <th>2021-02-02</th>\n      <th>Tylos</th>\n      <th>oGTa</th>\n      <th>Germany</th>\n      <th>BONN</th>\n      <td>1.0</td>\n      <td>NaN</td>\n    </tr>\n    <tr>\n      <th>2021-02-05</th>\n      <th>Dilmun</th>\n      <th>oGV</th>\n      <th>Egypt</th>\n      <th>AAST In CAIRO</th>\n      <td>1.0</td>\n      <td>NaN</td>\n    </tr>\n    <tr>\n      <th>2021-02-06</th>\n      <th>Dilmun</th>\n      <th>oGV</th>\n      <th>Egypt</th>\n      <th>AAST In CAIRO</th>\n      <td>1.0</td>\n      <td>NaN</td>\n    </tr>\n    <tr>\n      <th>2021-02-08</th>\n      <th>Awal</th>\n      <th>oGTa</th>\n      <th>Malaysia</th>\n      <th>Taylor's University (TU) , Subang Jaya</th>\n      <td>1.0</td>\n      <td>NaN</td>\n    </tr>\n    <tr>\n      <th>2021-02-21</th>\n      <th>(Closed RCSI)</th>\n      <th>oGV</th>\n      <th>Brazil</th>\n      <th>SAO CARLOS</th>\n      <td>1.0</td>\n      <td>NaN</td>\n    </tr>\n    <tr>\n      <th>2021-02-28</th>\n      <th>(Closed RCSI)</th>\n      <th>oGV</th>\n      <th>Turkey</th>\n      <th>KONYA</th>\n      <td>1.0</td>\n      <td>NaN</td>\n    </tr>\n    <tr>\n      <th rowspan=\"3\" valign=\"top\">2021-03-02</th>\n      <th rowspan=\"3\" valign=\"top\">Awal</th>\n      <th rowspan=\"3\" valign=\"top\">oGTa</th>\n      <th rowspan=\"3\" valign=\"top\">Egypt</th>\n      <th>Cairo University</th>\n      <td>1.0</td>\n      <td>NaN</td>\n    </tr>\n    <tr>\n      <th>GUC</th>\n      <td>1.0</td>\n      <td>NaN</td>\n    </tr>\n    <tr>\n      <th>MIU</th>\n      <td>1.0</td>\n      <td>NaN</td>\n    </tr>\n    <tr>\n      <th>2021-03-12</th>\n      <th>Awal</th>\n      <th>oGTa</th>\n      <th>United States</th>\n      <th>NEW YORK CITY</th>\n      <td>1.0</td>\n      <td>NaN</td>\n    </tr>\n    <tr>\n      <th>2021-03-16</th>\n      <th>Tylos</th>\n      <th>oGTa</th>\n      <th>Germany</th>\n      <th>BONN</th>\n      <td>1.0</td>\n      <td>NaN</td>\n    </tr>\n    <tr>\n      <th rowspan=\"3\" valign=\"top\">2021-03-18</th>\n      <th rowspan=\"3\" valign=\"top\">Awal</th>\n      <th rowspan=\"3\" valign=\"top\">oGTe</th>\n      <th rowspan=\"3\" valign=\"top\">Egypt</th>\n      <th>Ain Shams University</th>\n      <td>1.0</td>\n      <td>NaN</td>\n    </tr>\n    <tr>\n      <th>Cairo University</th>\n      <td>1.0</td>\n      <td>NaN</td>\n    </tr>\n    <tr>\n      <th>GUC</th>\n      <td>1.0</td>\n      <td>NaN</td>\n    </tr>\n    <tr>\n      <th>2021-03-22</th>\n      <th>Awal</th>\n      <th>oGTa</th>\n      <th>United Arab Emirates</th>\n      <th>UAE (MC)</th>\n      <td>1.0</td>\n      <td>NaN</td>\n    </tr>\n    <tr>\n      <th>2021-03-23</th>\n      <th>Dilmun</th>\n      <th>oGTa</th>\n      <th>United Arab Emirates</th>\n      <th>UAE (MC)</th>\n      <td>3.0</td>\n      <td>NaN</td>\n    </tr>\n    <tr>\n      <th>2021-03-24</th>\n      <th>Awal</th>\n      <th>oGTa</th>\n      <th>United Arab Emirates</th>\n      <th>UAE (MC)</th>\n      <td>2.0</td>\n      <td>NaN</td>\n    </tr>\n    <tr>\n      <th>2021-03-25</th>\n      <th>Dilmun</th>\n      <th>oGTa</th>\n      <th>United Arab Emirates</th>\n      <th>UAE (MC)</th>\n      <td>3.0</td>\n      <td>NaN</td>\n    </tr>\n    <tr>\n      <th rowspan=\"2\" valign=\"top\">2021-03-26</th>\n      <th>Awal</th>\n      <th>oGTa</th>\n      <th>United Arab Emirates</th>\n      <th>UAE (MC)</th>\n      <td>3.0</td>\n      <td>NaN</td>\n    </tr>\n    <tr>\n      <th>Dilmun</th>\n      <th>oGTa</th>\n      <th>United Arab Emirates</th>\n      <th>UAE (MC)</th>\n      <td>1.0</td>\n      <td>NaN</td>\n    </tr>\n    <tr>\n      <th>2021-03-27</th>\n      <th>Dilmun</th>\n      <th>oGTa</th>\n      <th>United Arab Emirates</th>\n      <th>UAE (MC)</th>\n      <td>3.0</td>\n      <td>NaN</td>\n    </tr>\n    <tr>\n      <th rowspan=\"2\" valign=\"top\">2021-03-28</th>\n      <th>(Closed ASU)</th>\n      <th>oGTa</th>\n      <th>United Arab Emirates</th>\n      <th>UAE (MC)</th>\n      <td>1.0</td>\n      <td>NaN</td>\n    </tr>\n    <tr>\n      <th>Dilmun</th>\n      <th>oGTa</th>\n      <th>United Arab Emirates</th>\n      <th>UAE (MC)</th>\n      <td>1.0</td>\n      <td>NaN</td>\n    </tr>\n    <tr>\n      <th>2021-03-29</th>\n      <th>Tylos</th>\n      <th>oGTa</th>\n      <th>United Arab Emirates</th>\n      <th>UAE (MC)</th>\n      <td>2.0</td>\n      <td>NaN</td>\n    </tr>\n    <tr>\n      <th rowspan=\"4\" valign=\"top\">2021-03-30</th>\n      <th>(Closed RCSI)</th>\n      <th>oGTa</th>\n      <th>United Arab Emirates</th>\n      <th>UAE (MC)</th>\n      <td>2.0</td>\n      <td>NaN</td>\n    </tr>\n    <tr>\n      <th>Awal</th>\n      <th>oGTa</th>\n      <th>United Arab Emirates</th>\n      <th>UAE (MC)</th>\n      <td>5.0</td>\n      <td>NaN</td>\n    </tr>\n    <tr>\n      <th>Dilmun</th>\n      <th>oGTa</th>\n      <th>United Arab Emirates</th>\n      <th>UAE (MC)</th>\n      <td>9.0</td>\n      <td>NaN</td>\n    </tr>\n    <tr>\n      <th>Tylos</th>\n      <th>oGTa</th>\n      <th>United Arab Emirates</th>\n      <th>UAE (MC)</th>\n      <td>2.0</td>\n      <td>NaN</td>\n    </tr>\n    <tr>\n      <th rowspan=\"3\" valign=\"top\">2021-03-31</th>\n      <th>Awal</th>\n      <th>oGTa</th>\n      <th>United Arab Emirates</th>\n      <th>UAE (MC)</th>\n      <td>1.0</td>\n      <td>NaN</td>\n    </tr>\n    <tr>\n      <th>Dilmun</th>\n      <th>oGTa</th>\n      <th>United Arab Emirates</th>\n      <th>UAE (MC)</th>\n      <td>8.0</td>\n      <td>NaN</td>\n    </tr>\n    <tr>\n      <th>Tylos</th>\n      <th>oGTa</th>\n      <th>United Arab Emirates</th>\n      <th>UAE (MC)</th>\n      <td>7.0</td>\n      <td>NaN</td>\n    </tr>\n    <tr>\n      <th>2021-04-01</th>\n      <th>Tylos</th>\n      <th>oGTa</th>\n      <th>Germany</th>\n      <th>BONN</th>\n      <td>1.0</td>\n      <td>NaN</td>\n    </tr>\n    <tr>\n      <th>2021-04-02</th>\n      <th>(Closed ASU)</th>\n      <th>oGTa</th>\n      <th>United Arab Emirates</th>\n      <th>UAE (MC)</th>\n      <td>1.0</td>\n      <td>NaN</td>\n    </tr>\n    <tr>\n      <th>2021-04-04</th>\n      <th>(Closed RCSI)</th>\n      <th>oGTa</th>\n      <th>United Arab Emirates</th>\n      <th>UAE (MC)</th>\n      <td>1.0</td>\n      <td>NaN</td>\n    </tr>\n    <tr>\n      <th>2021-04-06</th>\n      <th>Dilmun</th>\n      <th>oGTa</th>\n      <th>United Arab Emirates</th>\n      <th>UAE (MC)</th>\n      <td>1.0</td>\n      <td>NaN</td>\n    </tr>\n    <tr>\n      <th rowspan=\"3\" valign=\"top\">2021-04-08</th>\n      <th>Awal</th>\n      <th>oGTa</th>\n      <th>United Arab Emirates</th>\n      <th>UAE (MC)</th>\n      <td>1.0</td>\n      <td>NaN</td>\n    </tr>\n    <tr>\n      <th>Dilmun</th>\n      <th>oGTa</th>\n      <th>United Arab Emirates</th>\n      <th>UAE (MC)</th>\n      <td>1.0</td>\n      <td>NaN</td>\n    </tr>\n    <tr>\n      <th>Tylos</th>\n      <th>oGTa</th>\n      <th>Belgium</th>\n      <th>Belgium (National)</th>\n      <td>1.0</td>\n      <td>NaN</td>\n    </tr>\n    <tr>\n      <th rowspan=\"2\" valign=\"top\">2021-04-09</th>\n      <th rowspan=\"2\" valign=\"top\">Dilmun</th>\n      <th rowspan=\"2\" valign=\"top\">oGTe</th>\n      <th>Tunisia</th>\n      <th>MEDINA</th>\n      <td>1.0</td>\n      <td>NaN</td>\n    </tr>\n    <tr>\n      <th>Turkey</th>\n      <th>KOCAELI</th>\n      <td>1.0</td>\n      <td>NaN</td>\n    </tr>\n    <tr>\n      <th>2021-04-11</th>\n      <th>Awal</th>\n      <th>oGTa</th>\n      <th>France</th>\n      <th>MC France</th>\n      <td>1.0</td>\n      <td>NaN</td>\n    </tr>\n    <tr>\n      <th rowspan=\"3\" valign=\"top\">2021-04-24</th>\n      <th rowspan=\"3\" valign=\"top\">Awal</th>\n      <th rowspan=\"3\" valign=\"top\">oGTa</th>\n      <th>Hungary</th>\n      <th>BUDAPEST UNIVERSITY</th>\n      <td>1.0</td>\n      <td>NaN</td>\n    </tr>\n    <tr>\n      <th>Slovakia</th>\n      <th>Comenius University</th>\n      <td>1.0</td>\n      <td>NaN</td>\n    </tr>\n    <tr>\n      <th>Turkey</th>\n      <th>IZMIR</th>\n      <td>1.0</td>\n      <td>NaN</td>\n    </tr>\n    <tr>\n      <th>2021-04-26</th>\n      <th>Awal</th>\n      <th>oGTa</th>\n      <th>France</th>\n      <th>MC France</th>\n      <td>1.0</td>\n      <td>NaN</td>\n    </tr>\n    <tr>\n      <th>2021-04-29</th>\n      <th>Dilmun</th>\n      <th>oGV</th>\n      <th>Sri Lanka</th>\n      <th>COLOMBO CENTRAL</th>\n      <td>1.0</td>\n      <td>NaN</td>\n    </tr>\n    <tr>\n      <th>2021-05-01</th>\n      <th>Dilmun</th>\n      <th>oGV</th>\n      <th>Ukraine</th>\n      <th>KHARKIV</th>\n      <td>1.0</td>\n      <td>NaN</td>\n    </tr>\n    <tr>\n      <th>2021-05-02</th>\n      <th>(Closed ASU)</th>\n      <th>oGV</th>\n      <th>Turkey</th>\n      <th>ESKISEHIR</th>\n      <td>1.0</td>\n      <td>NaN</td>\n    </tr>\n    <tr>\n      <th>2021-05-03</th>\n      <th>(Closed ASU)</th>\n      <th>oGV</th>\n      <th>Sri Lanka</th>\n      <th>COLOMBO CENTRAL</th>\n      <td>1.0</td>\n      <td>NaN</td>\n    </tr>\n    <tr>\n      <th>2021-05-05</th>\n      <th>Dilmun</th>\n      <th>oGV</th>\n      <th>Turkey</th>\n      <th>ANKARA</th>\n      <td>1.0</td>\n      <td>NaN</td>\n    </tr>\n    <tr>\n      <th rowspan=\"3\" valign=\"top\">2021-05-06</th>\n      <th>Awal</th>\n      <th>oGTe</th>\n      <th>Brazil</th>\n      <th>SAO CARLOS</th>\n      <td>1.0</td>\n      <td>NaN</td>\n    </tr>\n    <tr>\n      <th>Dilmun</th>\n      <th>oGV</th>\n      <th>Sri Lanka</th>\n      <th>COLOMBO CENTRAL</th>\n      <td>1.0</td>\n      <td>NaN</td>\n    </tr>\n    <tr>\n      <th>Tylos</th>\n      <th>oGTa</th>\n      <th>Turkey</th>\n      <th>IZMIR</th>\n      <td>1.0</td>\n      <td>NaN</td>\n    </tr>\n    <tr>\n      <th>2021-05-07</th>\n      <th>Awal</th>\n      <th>oGV</th>\n      <th>Turkey</th>\n      <th>SAMSUN</th>\n      <td>1.0</td>\n      <td>NaN</td>\n    </tr>\n    <tr>\n      <th>2021-05-11</th>\n      <th>Tylos</th>\n      <th>iGV</th>\n      <th>Sri Lanka</th>\n      <th>NSBM</th>\n      <td>1.0</td>\n      <td>NaN</td>\n    </tr>\n    <tr>\n      <th rowspan=\"2\" valign=\"top\">2021-05-12</th>\n      <th>Awal</th>\n      <th>oGTa</th>\n      <th>France</th>\n      <th>MC France</th>\n      <td>1.0</td>\n      <td>NaN</td>\n    </tr>\n    <tr>\n      <th>Dilmun</th>\n      <th>oGV</th>\n      <th>Sri Lanka</th>\n      <th>COLOMBO CENTRAL</th>\n      <td>1.0</td>\n      <td>NaN</td>\n    </tr>\n    <tr>\n      <th>2021-05-14</th>\n      <th>Dilmun</th>\n      <th>oGV</th>\n      <th>Sri Lanka</th>\n      <th>COLOMBO CENTRAL</th>\n      <td>NaN</td>\n      <td>1.0</td>\n    </tr>\n  </tbody>\n</table>\n</div>"
     },
     "metadata": {},
     "execution_count": 59
    }
   ],
   "source": [
    "def generate_time_series(table: pd.DataFrame, other_indices, date_col: str, metric_name: str):\n",
    "    time_series = table.groupby([date_col, *other_indices])['id'].count().to_frame()\n",
    "    time_series.rename(columns={\"id\": metric_name}, inplace=True)\n",
    "    time_series.index.names = ['date', *other_indices]\n",
    "    return time_series\n",
    "\n",
    "\n",
    "apps = generate_time_series(perf_table, multi_indices, \"created_at\", \"application\")\n",
    "acc = generate_time_series(perf_table, multi_indices, \"date_matched\", \"accepted\")\n",
    "\n",
    "\n",
    "\n",
    "apps.join([acc], how='outer')"
   ]
  },
  {
   "cell_type": "code",
   "execution_count": null,
   "metadata": {},
   "outputs": [],
   "source": []
  }
 ]
}