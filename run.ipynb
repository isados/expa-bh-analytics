{
 "cells": [
  {
   "cell_type": "code",
   "execution_count": 2,
   "id": "working-immune",
   "metadata": {},
   "outputs": [],
   "source": [
    "import pandas as pd\n",
    "import pygsheets\n",
    "\n",
    "import os\n",
    "from datetime import datetime, timedelta\n",
    "import pickle\n",
    "import json\n",
    "\n",
    "from googleapiclient.discovery import build\n",
    "from googleapiclient.errors import HttpError\n",
    "from google_auth_oauthlib.flow import InstalledAppFlow\n",
    "from google.auth.transport.requests import Request"
   ]
  },
  {
   "cell_type": "code",
   "execution_count": 10,
   "metadata": {},
   "outputs": [],
   "source": [
    "    \n",
    "SHEET_NAME = \"HEROKU\"\n",
    "\n",
    "# if DEBUG is True:\n",
    "#     SHEET_NAME = \"TEST | STUDY-PLAN\"\n",
    "\n",
    "SPREADSHEET_ID = \"1MQOyYpuJ4zF5xyqjVtAnrTrG3In9lxWl9L3yXiTeYiw\"\n",
    "\n",
    "# Get real path of executable directory\n",
    "# dir_name = os.path.dirname(os.path.realpath(sys.argv[0]))\n",
    "\n",
    "secretpath = \"creds_google/service_account.json\"\n",
    "\n",
    "gc = pygsheets.authorize(service_file=secretpath)\n",
    "\n",
    "workbook = gc.open_by_key(SPREADSHEET_ID)\n",
    "\n",
    "worksheet = workbook.worksheet_by_title(SHEET_NAME)\n",
    "\n",
    "# Retrieve the data from the sheets\n",
    "# df = worksheet.get_as_df(start=\"A\", end=\"I\")\n",
    "\n",
    "# Have an empty dataframe to write back to the sheets\n",
    "\n",
    "# new_df = pd.DataFrame(columns=df.columns)\n",
    "# new_df.head()\n"
   ]
  },
  {
   "cell_type": "code",
   "execution_count": 30,
   "metadata": {},
   "outputs": [],
   "source": [
    "# worksheet.set_dataframe(df, start='A2', copy_head=False)\n",
    "import requests\n",
    "import urllib\n",
    "\n",
    "URI = 'https://gis-api.aiesec.org/graphql'\n",
    "ACCESS_TOKEN = \"7789a122c78d710a724f3cd2a7d8daf809b467d46cf63eafa76b2ae87a32f035\"\n",
    "ORIGINAL_QUERY = '{allOpportunityApplication(filters: {created_at: {from:\"2021-01-01\", to:\"2021-03-20\"}}){data{id status created_at date_matched date_approved date_realized experience_start_date experience_end_date date_approval_broken nps_response_completed_at updated_at person{id full_name home_mc{id name}home_lc{id name}}host_lc{id name}home_mc{id name}opportunity{id created_at title available_openings duration sub_product{name}programme{id short_name_display}}standards{option}}}}'\n",
    "QUERY = '{allOpportunityApplication(filters: {created_at: {from:\"2021-01-01\", to:\"2021-03-20\"}}){data{id status created_at date_matched date_approved date_realized experience_start_date experience_end_date date_approval_broken nps_response_completed_at updated_at person{id full_name home_mc{name}home_lc{name}}host_lc{name}home_mc{name}opportunity{id created_at title duration sub_product{name}programme{short_name_display}}standards{option}}}}'\n",
    "\n",
    "\n",
    "\n",
    "url = f\"{URI}?query={QUERY}&access_token={ACCESS_TOKEN}\"\n",
    "\n",
    "\n",
    "url = urllib.parse.quote(url, safe='~@#$&()*!+=:;,.?/\\'')\n",
    "\n",
    "\n",
    "response = requests.post(url, data={ 'Content-Type': 'application/json'})\n"
   ]
  },
  {
   "cell_type": "code",
   "execution_count": 32,
   "metadata": {},
   "outputs": [
    {
     "output_type": "stream",
     "name": "stdout",
     "text": [
      "id                                                                          6122201\nstatus                                                                         open\ncreated_at                                                     2021-03-18T07:46:42Z\ndate_matched                                                                      -\ndate_approved                                                                     -\ndate_realized                                                                     -\nexperience_start_date                                                             -\nexperience_end_date                                                               -\ndate_approval_broken                                                              -\nnps_response_completed_at                                                         -\nupdated_at                                                     2021-03-18T07:46:42Z\nstandards                                                                        []\nperson_id                                                                   4564862\nperson_full_name                                                      Fatema Alafoo\nperson_home_mc_name                                                         Bahrain\nperson_home_lc_name                                                            Awal\nhost_lc_name                                                       Cairo University\nhome_mc_name                                                                  Egypt\nopportunity_id                                                              1272267\nopportunity_created_at                                         2021-03-16T23:36:38Z\nopportunity_title                           Math Teacher in IVY STEM School | Egypt\nopportunity_duration                                                              -\nopportunity_sub_product                                                           -\nopportunity_programme_short_name_display                                        GTe\nopportunity_sub_product_name                                                      -\nName: 0, dtype: object\n"
     ]
    }
   ],
   "source": [
    "\n",
    "results = json.loads(response.content)\n",
    "\n",
    "# Reduce the dict by 3\n",
    "results = results['data']['allOpportunityApplication']['data']\n",
    "\n",
    "#  Flatten dictionary and compress keys\n",
    "results = pd.json_normalize(results, sep='_')\n",
    "import numpy as np\n",
    "results.replace([np.NaN], '-', inplace=True)\n",
    "print(results.iloc[0])"
   ]
  },
  {
   "cell_type": "code",
   "execution_count": 33,
   "metadata": {},
   "outputs": [
    {
     "output_type": "stream",
     "name": "stdout",
     "text": [
      "person_home_lc_name  person_id\n(Closed RCSI)        1002581      2\nAwal                 4564862      6\n                     1725431      1\n                     4576705      1\nDilmun               4534283      2\nTylos                2011401      1\n                     4531535      1\nName: person_id, dtype: int64\n"
     ]
    }
   ],
   "source": [
    "worksheet.set_dataframe(results, start='A1', copy_head=True)\n",
    "# results.info()\n",
    "# print(\"Number of Applicants :\", len(results.person_id.unique()))\n",
    "# print(\"Number of Applications :\", results.shape[0])\n",
    "# print(results.person_id)\n",
    "print(results.groupby('person_home_lc_name')['person_id'].value_counts())"
   ]
  },
  {
   "cell_type": "code",
   "execution_count": 18,
   "metadata": {},
   "outputs": [
    {
     "output_type": "execute_result",
     "data": {
      "text/plain": [
       "         person_full_name opportunity_programme_short_name_display\n",
       "0           Fatema Alafoo                                      GTe\n",
       "1           Fatema Alafoo                                      GTe\n",
       "2           Fatema Alafoo                                      GTe\n",
       "4        Touqeer Mohammad                                      GTa\n",
       "5           Fatema Alafoo                                      GTa\n",
       "6           Fatema Alafoo                                      GTa\n",
       "7           Fatema Alafoo                                      GTa\n",
       "10  Hanan Ali Ateya Jasim                                      GTa"
      ],
      "text/html": "<div>\n<style scoped>\n    .dataframe tbody tr th:only-of-type {\n        vertical-align: middle;\n    }\n\n    .dataframe tbody tr th {\n        vertical-align: top;\n    }\n\n    .dataframe thead th {\n        text-align: right;\n    }\n</style>\n<table border=\"1\" class=\"dataframe\">\n  <thead>\n    <tr style=\"text-align: right;\">\n      <th></th>\n      <th>person_full_name</th>\n      <th>opportunity_programme_short_name_display</th>\n    </tr>\n  </thead>\n  <tbody>\n    <tr>\n      <th>0</th>\n      <td>Fatema Alafoo</td>\n      <td>GTe</td>\n    </tr>\n    <tr>\n      <th>1</th>\n      <td>Fatema Alafoo</td>\n      <td>GTe</td>\n    </tr>\n    <tr>\n      <th>2</th>\n      <td>Fatema Alafoo</td>\n      <td>GTe</td>\n    </tr>\n    <tr>\n      <th>4</th>\n      <td>Touqeer Mohammad</td>\n      <td>GTa</td>\n    </tr>\n    <tr>\n      <th>5</th>\n      <td>Fatema Alafoo</td>\n      <td>GTa</td>\n    </tr>\n    <tr>\n      <th>6</th>\n      <td>Fatema Alafoo</td>\n      <td>GTa</td>\n    </tr>\n    <tr>\n      <th>7</th>\n      <td>Fatema Alafoo</td>\n      <td>GTa</td>\n    </tr>\n    <tr>\n      <th>10</th>\n      <td>Hanan Ali Ateya Jasim</td>\n      <td>GTa</td>\n    </tr>\n  </tbody>\n</table>\n</div>"
     },
     "metadata": {},
     "execution_count": 18
    }
   ],
   "source": [
    "    results[results.person_home_lc_name == 'Awal'][['person_full_name', 'opportunity_programme_short_name_display'] ]\n",
    "    # results.info()"
   ]
  }
 ],
 "metadata": {
  "kernelspec": {
   "display_name": "Python 3",
   "language": "python",
   "name": "python3"
  },
  "language_info": {
   "codemirror_mode": {
    "name": "ipython",
    "version": 3
   },
   "file_extension": ".py",
   "mimetype": "text/x-python",
   "name": "python",
   "nbconvert_exporter": "python",
   "pygments_lexer": "ipython3",
   "version": "3.7.5-final"
  }
 },
 "nbformat": 4,
 "nbformat_minor": 5
}