{
 "metadata": {
  "language_info": {
   "codemirror_mode": {
    "name": "ipython",
    "version": 3
   },
   "file_extension": ".py",
   "mimetype": "text/x-python",
   "name": "python",
   "nbconvert_exporter": "python",
   "pygments_lexer": "ipython3",
   "version": "3.8.5"
  },
  "orig_nbformat": 2,
  "kernelspec": {
   "name": "python385jvsc74a57bd0baea3d1e2a76be3c9658e8cbc3f092a0d20c11a0a51df90fb2c6ccf3fcd7a21c",
   "display_name": "Python 3.8.5 64-bit ('expa-bh-analytics': virtualenvwrapper)"
  },
  "metadata": {
   "interpreter": {
    "hash": "baea3d1e2a76be3c9658e8cbc3f092a0d20c11a0a51df90fb2c6ccf3fcd7a21c"
   }
  }
 },
 "nbformat": 4,
 "nbformat_minor": 2,
 "cells": [
  {
   "source": [
    "### Install necessary packages"
   ],
   "cell_type": "markdown",
   "metadata": {}
  },
  {
   "cell_type": "code",
   "execution_count": 1,
   "metadata": {},
   "outputs": [],
   "source": [
    "import os\n",
    "import json\n",
    "import tempfile\n",
    "import requests\n",
    "import urllib\n",
    "import pygsheets\n",
    "import numpy as np\n",
    "import pandas as pd\n",
    "import asyncio\n",
    "from gql import Client, gql\n",
    "from gql.transport.aiohttp import AIOHTTPTransport\n",
    "from string import Template\n",
    "from utils import write_base64str_obj_to_file, read_text_fromfile, read_env_variables"
   ]
  },
  {
   "source": [
    "### Retrieve data using GraphQL"
   ],
   "cell_type": "markdown",
   "metadata": {}
  },
  {
   "cell_type": "code",
   "execution_count": 2,
   "metadata": {},
   "outputs": [],
   "source": [
    "# Select your transport with a defined url endpoint\n",
    "transport = AIOHTTPTransport(url=\"https://gis-api.aiesec.org/graphql/?access_token=377a0dfb6e5f0126dbf76cab289c755c59e9578ef8acb9e2af72354e9a9a68a1\")\n",
    "\n",
    "async def getData():\n",
    "    # Create a GraphQL client using the defined transport\n",
    "    async with Client(transport=transport, fetch_schema_from_transport=True) as session:\n",
    "\n",
    "        # Provide a GraphQL query\n",
    "        query = gql(\n",
    "            \"\"\"\n",
    "            query getApplicationList ($limit: Int, $start_date: DateTime, $end_date: DateTime){\n",
    "            allOpportunityApplication(per_page: $limit, filters: {created_at: {from: $start_date, to: $end_date}}) {\n",
    "                data {\n",
    "                id\n",
    "                status\n",
    "                created_at\n",
    "                date_matched\n",
    "                date_pay_by_cash\n",
    "                date_approved\n",
    "                date_realized\n",
    "                experience_start_date\n",
    "                experience_end_date\n",
    "                date_approval_broken\n",
    "                nps_response_completed_at\n",
    "                updated_at\n",
    "                person {\n",
    "                    id\n",
    "                    full_name\n",
    "                    home_mc {\n",
    "                    name\n",
    "                    }\n",
    "                    home_lc {\n",
    "                    name\n",
    "                    }\n",
    "                }\n",
    "                host_lc {\n",
    "                    name\n",
    "                }\n",
    "                host_mc: home_mc {\n",
    "                    name\n",
    "                }\n",
    "                opportunity {\n",
    "                    id\n",
    "                    created_at\n",
    "                    title\n",
    "                    duration\n",
    "                    sub_product {\n",
    "                    name\n",
    "                    }\n",
    "                    programme {\n",
    "                    short_name_display\n",
    "                    }\n",
    "                }\n",
    "                standards {\n",
    "                    option\n",
    "                }\n",
    "                }\n",
    "            }\n",
    "            }\n",
    "        \"\"\"\n",
    "        )\n",
    "\n",
    "        params = {\t\"mc_id\": [518],\n",
    "                    \"start_date\": \"2021-01-01\",\n",
    "                    \"end_date\": \"\",\n",
    "                    \"limit\": 1000\n",
    "                }\n",
    "\n",
    "        # Execute the query on the transport\n",
    "        results = await session.execute(query, variable_values=params)\n",
    "        # print(result)\n",
    "        return results\n",
    "\n",
    "results = await getData()"
   ]
  },
  {
   "source": [
    "### Store response as a dataframe"
   ],
   "cell_type": "markdown",
   "metadata": {}
  },
  {
   "cell_type": "code",
   "execution_count": 3,
   "metadata": {},
   "outputs": [],
   "source": [
    "\n",
    "# Reduce the dict by 3 Levels\n",
    "results = results['allOpportunityApplication']['data']\n",
    "\n",
    "#  Flatten dictionary and compress keys\n",
    "results = pd.json_normalize(results, sep='_')\n",
    "\n",
    "# results.replace([np.NaN, \"\", \"-\"], '', inplace=True)"
   ]
  },
  {
   "source": [
    "## Examine the dataset"
   ],
   "cell_type": "markdown",
   "metadata": {}
  },
  {
   "cell_type": "code",
   "execution_count": 4,
   "metadata": {},
   "outputs": [
    {
     "output_type": "execute_result",
     "data": {
      "text/plain": [
       "        id    status            created_at          date_matched  \\\n",
       "0  6169117  rejected  2021-05-24T15:44:14Z                  None   \n",
       "1  6169114      open  2021-05-24T15:41:10Z                  None   \n",
       "2  6166570      open  2021-05-19T19:33:01Z                  None   \n",
       "3  6165784   matched  2021-05-18T15:16:07Z  2021-05-24T13:04:40Z   \n",
       "4  6162477      open  2021-05-12T14:49:44Z                  None   \n",
       "\n",
       "  date_pay_by_cash date_approved date_realized experience_start_date  \\\n",
       "0             None          None          None                  None   \n",
       "1             None          None          None                  None   \n",
       "2             None          None          None                  None   \n",
       "3             None          None          None                  None   \n",
       "4             None          None          None                  None   \n",
       "\n",
       "  experience_end_date date_approval_broken  ...    person_home_lc_name  \\\n",
       "0                None                 None  ...                   Awal   \n",
       "1                None                 None  ...                   Awal   \n",
       "2                None                 None  ...  EASTERN MEDITERRANEAN   \n",
       "3                None                 None  ...                 Dilmun   \n",
       "4                None                 None  ...                   Awal   \n",
       "\n",
       "  host_lc_name host_mc_name opportunity_id opportunity_created_at  \\\n",
       "0    ESKISEHIR       Turkey        1261663   2020-06-28T14:50:18Z   \n",
       "1       SAMSUN       Turkey        1267025   2020-10-27T15:39:00Z   \n",
       "2        Tylos      Bahrain        1273447   2021-04-12T20:21:06Z   \n",
       "3    ESKISEHIR       Turkey        1269989   2021-02-04T12:03:23Z   \n",
       "4    MC France       France        1274284   2021-05-04T13:30:34Z   \n",
       "\n",
       "                                   opportunity_title opportunity_duration  \\\n",
       "0  Discover Turk'ish Culture | Develop your Marke...                 None   \n",
       "1  Practice Foreigner Language | Discuss World Is...                 None   \n",
       "2      Children's Intercultural Environment Advocate                 None   \n",
       "3  Improve Animals’ Live quality | improve their ...                 None   \n",
       "4                                HR Projects Manager                 None   \n",
       "\n",
       "  opportunity_sub_product opportunity_programme_short_name_display  \\\n",
       "0                     NaN                                       GV   \n",
       "1                     NaN                                       GV   \n",
       "2                     NaN                                       GV   \n",
       "3                     NaN                                       GV   \n",
       "4                     NaN                                      GTa   \n",
       "\n",
       "  opportunity_sub_product_name  \n",
       "0                          NaN  \n",
       "1                          NaN  \n",
       "2                          NaN  \n",
       "3                          NaN  \n",
       "4                        Other  \n",
       "\n",
       "[5 rows x 26 columns]"
      ],
      "text/html": "<div>\n<style scoped>\n    .dataframe tbody tr th:only-of-type {\n        vertical-align: middle;\n    }\n\n    .dataframe tbody tr th {\n        vertical-align: top;\n    }\n\n    .dataframe thead th {\n        text-align: right;\n    }\n</style>\n<table border=\"1\" class=\"dataframe\">\n  <thead>\n    <tr style=\"text-align: right;\">\n      <th></th>\n      <th>id</th>\n      <th>status</th>\n      <th>created_at</th>\n      <th>date_matched</th>\n      <th>date_pay_by_cash</th>\n      <th>date_approved</th>\n      <th>date_realized</th>\n      <th>experience_start_date</th>\n      <th>experience_end_date</th>\n      <th>date_approval_broken</th>\n      <th>...</th>\n      <th>person_home_lc_name</th>\n      <th>host_lc_name</th>\n      <th>host_mc_name</th>\n      <th>opportunity_id</th>\n      <th>opportunity_created_at</th>\n      <th>opportunity_title</th>\n      <th>opportunity_duration</th>\n      <th>opportunity_sub_product</th>\n      <th>opportunity_programme_short_name_display</th>\n      <th>opportunity_sub_product_name</th>\n    </tr>\n  </thead>\n  <tbody>\n    <tr>\n      <th>0</th>\n      <td>6169117</td>\n      <td>rejected</td>\n      <td>2021-05-24T15:44:14Z</td>\n      <td>None</td>\n      <td>None</td>\n      <td>None</td>\n      <td>None</td>\n      <td>None</td>\n      <td>None</td>\n      <td>None</td>\n      <td>...</td>\n      <td>Awal</td>\n      <td>ESKISEHIR</td>\n      <td>Turkey</td>\n      <td>1261663</td>\n      <td>2020-06-28T14:50:18Z</td>\n      <td>Discover Turk'ish Culture | Develop your Marke...</td>\n      <td>None</td>\n      <td>NaN</td>\n      <td>GV</td>\n      <td>NaN</td>\n    </tr>\n    <tr>\n      <th>1</th>\n      <td>6169114</td>\n      <td>open</td>\n      <td>2021-05-24T15:41:10Z</td>\n      <td>None</td>\n      <td>None</td>\n      <td>None</td>\n      <td>None</td>\n      <td>None</td>\n      <td>None</td>\n      <td>None</td>\n      <td>...</td>\n      <td>Awal</td>\n      <td>SAMSUN</td>\n      <td>Turkey</td>\n      <td>1267025</td>\n      <td>2020-10-27T15:39:00Z</td>\n      <td>Practice Foreigner Language | Discuss World Is...</td>\n      <td>None</td>\n      <td>NaN</td>\n      <td>GV</td>\n      <td>NaN</td>\n    </tr>\n    <tr>\n      <th>2</th>\n      <td>6166570</td>\n      <td>open</td>\n      <td>2021-05-19T19:33:01Z</td>\n      <td>None</td>\n      <td>None</td>\n      <td>None</td>\n      <td>None</td>\n      <td>None</td>\n      <td>None</td>\n      <td>None</td>\n      <td>...</td>\n      <td>EASTERN MEDITERRANEAN</td>\n      <td>Tylos</td>\n      <td>Bahrain</td>\n      <td>1273447</td>\n      <td>2021-04-12T20:21:06Z</td>\n      <td>Children's Intercultural Environment Advocate</td>\n      <td>None</td>\n      <td>NaN</td>\n      <td>GV</td>\n      <td>NaN</td>\n    </tr>\n    <tr>\n      <th>3</th>\n      <td>6165784</td>\n      <td>matched</td>\n      <td>2021-05-18T15:16:07Z</td>\n      <td>2021-05-24T13:04:40Z</td>\n      <td>None</td>\n      <td>None</td>\n      <td>None</td>\n      <td>None</td>\n      <td>None</td>\n      <td>None</td>\n      <td>...</td>\n      <td>Dilmun</td>\n      <td>ESKISEHIR</td>\n      <td>Turkey</td>\n      <td>1269989</td>\n      <td>2021-02-04T12:03:23Z</td>\n      <td>Improve Animals’ Live quality | improve their ...</td>\n      <td>None</td>\n      <td>NaN</td>\n      <td>GV</td>\n      <td>NaN</td>\n    </tr>\n    <tr>\n      <th>4</th>\n      <td>6162477</td>\n      <td>open</td>\n      <td>2021-05-12T14:49:44Z</td>\n      <td>None</td>\n      <td>None</td>\n      <td>None</td>\n      <td>None</td>\n      <td>None</td>\n      <td>None</td>\n      <td>None</td>\n      <td>...</td>\n      <td>Awal</td>\n      <td>MC France</td>\n      <td>France</td>\n      <td>1274284</td>\n      <td>2021-05-04T13:30:34Z</td>\n      <td>HR Projects Manager</td>\n      <td>None</td>\n      <td>NaN</td>\n      <td>GTa</td>\n      <td>Other</td>\n    </tr>\n  </tbody>\n</table>\n<p>5 rows × 26 columns</p>\n</div>"
     },
     "metadata": {},
     "execution_count": 4
    }
   ],
   "source": [
    "results.head()"
   ]
  },
  {
   "cell_type": "code",
   "execution_count": 5,
   "metadata": {},
   "outputs": [
    {
     "output_type": "stream",
     "name": "stdout",
     "text": [
      "<class 'pandas.core.frame.DataFrame'>\nRangeIndex: 98 entries, 0 to 97\nData columns (total 26 columns):\n #   Column                                    Non-Null Count  Dtype  \n---  ------                                    --------------  -----  \n 0   id                                        98 non-null     object \n 1   status                                    98 non-null     object \n 2   created_at                                98 non-null     object \n 3   date_matched                              2 non-null      object \n 4   date_pay_by_cash                          0 non-null      object \n 5   date_approved                             0 non-null      object \n 6   date_realized                             0 non-null      object \n 7   experience_start_date                     0 non-null      object \n 8   experience_end_date                       0 non-null      object \n 9   date_approval_broken                      0 non-null      object \n 10  nps_response_completed_at                 0 non-null      object \n 11  updated_at                                98 non-null     object \n 12  standards                                 98 non-null     object \n 13  person_id                                 98 non-null     object \n 14  person_full_name                          98 non-null     object \n 15  person_home_mc_name                       98 non-null     object \n 16  person_home_lc_name                       98 non-null     object \n 17  host_lc_name                              98 non-null     object \n 18  host_mc_name                              98 non-null     object \n 19  opportunity_id                            98 non-null     object \n 20  opportunity_created_at                    98 non-null     object \n 21  opportunity_title                         98 non-null     object \n 22  opportunity_duration                      0 non-null      object \n 23  opportunity_sub_product                   0 non-null      float64\n 24  opportunity_programme_short_name_display  98 non-null     object \n 25  opportunity_sub_product_name              75 non-null     object \ndtypes: float64(1), object(25)\nmemory usage: 20.0+ KB\n"
     ]
    }
   ],
   "source": [
    "results.info()"
   ]
  },
  {
   "source": [
    "Create new columns for Easy Reading and Indices\n",
    "* LC\n",
    "* LC_ID*\n",
    "* Department\n",
    "* Partner_MC\n",
    "* Partner_LC\n",
    "\n",
    "*-Probably do need it for verification"
   ],
   "cell_type": "markdown",
   "metadata": {}
  },
  {
   "cell_type": "code",
   "execution_count": 6,
   "metadata": {},
   "outputs": [
    {
     "output_type": "execute_result",
     "data": {
      "text/plain": [
       "  dept_prefix      lc partner_mc             partner_lc\n",
       "0           o    Awal     Turkey              ESKISEHIR\n",
       "1           o    Awal     Turkey                 SAMSUN\n",
       "2           i   Tylos     Turkey  EASTERN MEDITERRANEAN\n",
       "3           o  Dilmun     Turkey              ESKISEHIR\n",
       "4           o    Awal     France              MC France\n",
       "5           o  Dilmun  Sri Lanka        COLOMBO CENTRAL\n",
       "6           i   Tylos  Sri Lanka                   NSBM\n",
       "7           o    Awal     Turkey                 SAMSUN\n",
       "8           o    Awal     Brazil             SAO CARLOS\n",
       "9           o   Tylos     Turkey                  IZMIR"
      ],
      "text/html": "<div>\n<style scoped>\n    .dataframe tbody tr th:only-of-type {\n        vertical-align: middle;\n    }\n\n    .dataframe tbody tr th {\n        vertical-align: top;\n    }\n\n    .dataframe thead th {\n        text-align: right;\n    }\n</style>\n<table border=\"1\" class=\"dataframe\">\n  <thead>\n    <tr style=\"text-align: right;\">\n      <th></th>\n      <th>dept_prefix</th>\n      <th>lc</th>\n      <th>partner_mc</th>\n      <th>partner_lc</th>\n    </tr>\n  </thead>\n  <tbody>\n    <tr>\n      <th>0</th>\n      <td>o</td>\n      <td>Awal</td>\n      <td>Turkey</td>\n      <td>ESKISEHIR</td>\n    </tr>\n    <tr>\n      <th>1</th>\n      <td>o</td>\n      <td>Awal</td>\n      <td>Turkey</td>\n      <td>SAMSUN</td>\n    </tr>\n    <tr>\n      <th>2</th>\n      <td>i</td>\n      <td>Tylos</td>\n      <td>Turkey</td>\n      <td>EASTERN MEDITERRANEAN</td>\n    </tr>\n    <tr>\n      <th>3</th>\n      <td>o</td>\n      <td>Dilmun</td>\n      <td>Turkey</td>\n      <td>ESKISEHIR</td>\n    </tr>\n    <tr>\n      <th>4</th>\n      <td>o</td>\n      <td>Awal</td>\n      <td>France</td>\n      <td>MC France</td>\n    </tr>\n    <tr>\n      <th>5</th>\n      <td>o</td>\n      <td>Dilmun</td>\n      <td>Sri Lanka</td>\n      <td>COLOMBO CENTRAL</td>\n    </tr>\n    <tr>\n      <th>6</th>\n      <td>i</td>\n      <td>Tylos</td>\n      <td>Sri Lanka</td>\n      <td>NSBM</td>\n    </tr>\n    <tr>\n      <th>7</th>\n      <td>o</td>\n      <td>Awal</td>\n      <td>Turkey</td>\n      <td>SAMSUN</td>\n    </tr>\n    <tr>\n      <th>8</th>\n      <td>o</td>\n      <td>Awal</td>\n      <td>Brazil</td>\n      <td>SAO CARLOS</td>\n    </tr>\n    <tr>\n      <th>9</th>\n      <td>o</td>\n      <td>Tylos</td>\n      <td>Turkey</td>\n      <td>IZMIR</td>\n    </tr>\n  </tbody>\n</table>\n</div>"
     },
     "metadata": {},
     "execution_count": 6
    }
   ],
   "source": [
    "# Create new multi-indices for grouping\n",
    "new_cols = ['dept_prefix', 'lc', 'partner_mc', 'partner_lc']\n",
    "\n",
    "def generate_new_fields(row):\n",
    "\n",
    "    if row['person_home_mc_name'] == 'Bahrain':\n",
    "        values = ['o', row['person_home_lc_name'],\n",
    "                  row['host_mc_name'], row['host_lc_name']]\n",
    "    else:\n",
    "        values = ['i', row['host_lc_name'],\n",
    "                  row['person_home_mc_name'], row['person_home_lc_name']]\n",
    "\n",
    "    return dict(zip(new_cols, values))\n",
    "\n",
    "results[new_cols] = results.apply(lambda row: generate_new_fields(row), axis=1, result_type='expand')\n",
    "results[new_cols].head(10)"
   ]
  },
  {
   "cell_type": "code",
   "execution_count": 7,
   "metadata": {},
   "outputs": [
    {
     "output_type": "execute_result",
     "data": {
      "text/plain": [
       "0      oGV\n",
       "1      oGV\n",
       "2      iGV\n",
       "3      oGV\n",
       "4     oGTa\n",
       "      ... \n",
       "93     oGV\n",
       "94    oGTa\n",
       "95     oGV\n",
       "96     oGV\n",
       "97    oGTa\n",
       "Name: department, Length: 98, dtype: object"
      ]
     },
     "metadata": {},
     "execution_count": 7
    }
   ],
   "source": [
    "# Create a new field 'department' with incoming and outgoing labels as prefix\n",
    "results['department'] = results.dept_prefix + results.opportunity_programme_short_name_display\n",
    "results.drop('opportunity_programme_short_name_display', inplace=True, axis=1)\n",
    "results['department']"
   ]
  },
  {
   "source": [
    "## Produce Performance Analytics DataFrame"
   ],
   "cell_type": "markdown",
   "metadata": {}
  },
  {
   "source": [
    "* First convert dates from longform to YYYY-MM-DD\n",
    "* Group by Date, LC, Dept, PartnerMC, PartnerLC, and the metrics like # of Applications, Accepted etc.. will be the aggregation"
   ],
   "cell_type": "markdown",
   "metadata": {}
  },
  {
   "cell_type": "code",
   "execution_count": 8,
   "metadata": {},
   "outputs": [
    {
     "output_type": "execute_result",
     "data": {
      "text/plain": [
       "        id person_id  created_at date_matched date_approved date_realized  \\\n",
       "0  6169117   4652381  2021-05-24         None          None          None   \n",
       "1  6169114   4652381  2021-05-24         None          None          None   \n",
       "2  6166570   3021521  2021-05-19         None          None          None   \n",
       "3  6165784   4563347  2021-05-18   2021-05-24          None          None   \n",
       "4  6162477    584671  2021-05-12         None          None          None   \n",
       "\n",
       "   updated_at      lc department partner_mc             partner_lc  \n",
       "0  2021-05-25    Awal        oGV     Turkey              ESKISEHIR  \n",
       "1  2021-05-24    Awal        oGV     Turkey                 SAMSUN  \n",
       "2  2021-05-25   Tylos        iGV     Turkey  EASTERN MEDITERRANEAN  \n",
       "3  2021-05-24  Dilmun        oGV     Turkey              ESKISEHIR  \n",
       "4  2021-05-12    Awal       oGTa     France              MC France  "
      ],
      "text/html": "<div>\n<style scoped>\n    .dataframe tbody tr th:only-of-type {\n        vertical-align: middle;\n    }\n\n    .dataframe tbody tr th {\n        vertical-align: top;\n    }\n\n    .dataframe thead th {\n        text-align: right;\n    }\n</style>\n<table border=\"1\" class=\"dataframe\">\n  <thead>\n    <tr style=\"text-align: right;\">\n      <th></th>\n      <th>id</th>\n      <th>person_id</th>\n      <th>created_at</th>\n      <th>date_matched</th>\n      <th>date_approved</th>\n      <th>date_realized</th>\n      <th>updated_at</th>\n      <th>lc</th>\n      <th>department</th>\n      <th>partner_mc</th>\n      <th>partner_lc</th>\n    </tr>\n  </thead>\n  <tbody>\n    <tr>\n      <th>0</th>\n      <td>6169117</td>\n      <td>4652381</td>\n      <td>2021-05-24</td>\n      <td>None</td>\n      <td>None</td>\n      <td>None</td>\n      <td>2021-05-25</td>\n      <td>Awal</td>\n      <td>oGV</td>\n      <td>Turkey</td>\n      <td>ESKISEHIR</td>\n    </tr>\n    <tr>\n      <th>1</th>\n      <td>6169114</td>\n      <td>4652381</td>\n      <td>2021-05-24</td>\n      <td>None</td>\n      <td>None</td>\n      <td>None</td>\n      <td>2021-05-24</td>\n      <td>Awal</td>\n      <td>oGV</td>\n      <td>Turkey</td>\n      <td>SAMSUN</td>\n    </tr>\n    <tr>\n      <th>2</th>\n      <td>6166570</td>\n      <td>3021521</td>\n      <td>2021-05-19</td>\n      <td>None</td>\n      <td>None</td>\n      <td>None</td>\n      <td>2021-05-25</td>\n      <td>Tylos</td>\n      <td>iGV</td>\n      <td>Turkey</td>\n      <td>EASTERN MEDITERRANEAN</td>\n    </tr>\n    <tr>\n      <th>3</th>\n      <td>6165784</td>\n      <td>4563347</td>\n      <td>2021-05-18</td>\n      <td>2021-05-24</td>\n      <td>None</td>\n      <td>None</td>\n      <td>2021-05-24</td>\n      <td>Dilmun</td>\n      <td>oGV</td>\n      <td>Turkey</td>\n      <td>ESKISEHIR</td>\n    </tr>\n    <tr>\n      <th>4</th>\n      <td>6162477</td>\n      <td>584671</td>\n      <td>2021-05-12</td>\n      <td>None</td>\n      <td>None</td>\n      <td>None</td>\n      <td>2021-05-12</td>\n      <td>Awal</td>\n      <td>oGTa</td>\n      <td>France</td>\n      <td>MC France</td>\n    </tr>\n  </tbody>\n</table>\n</div>"
     },
     "metadata": {},
     "execution_count": 8
    }
   ],
   "source": [
    "date_cols = ['created_at', 'date_matched', 'date_approved', 'date_realized', 'updated_at']\n",
    "multi_indices = ['lc', 'department', 'partner_mc', 'partner_lc']\n",
    "counting_by = ['id', 'person_id']\n",
    "\n",
    "# Generate table with these columns only\n",
    "perf_table = results[counting_by + date_cols + multi_indices].copy()\n",
    "\n",
    "# Ensure that dates are uniform and shortened\n",
    "perf_table.loc[:,date_cols] = results[date_cols].applymap(lambda x: x[:-10], na_action='ignore')\n",
    "\n",
    "\n",
    "perf_table.head()\n"
   ]
  },
  {
   "cell_type": "code",
   "execution_count": 9,
   "metadata": {},
   "outputs": [],
   "source": [
    "\n",
    "def splitup_date_field(table: pd.DataFrame, remaining_fields: list, sel_date_col: str, metric_name: str):\n",
    "    table = table[[sel_date_col, *remaining_fields, *counting_by]]\n",
    "    _ = table.sort_values([sel_date_col, *remaining_fields])\n",
    "    _.rename(columns={sel_date_col: \"date\", \n",
    "                     \"id\": metric_name+\"~APP\", \n",
    "                     \"person_id\": metric_name+\"~PPL\"}, inplace=True)\n",
    "    \n",
    "    \n",
    "    return _.dropna(axis=0)\n",
    "\n",
    "\n",
    "apps = splitup_date_field(perf_table, multi_indices, \"created_at\", \"applications\")\n",
    "acc = splitup_date_field(perf_table, multi_indices, \"date_matched\", \"accepted\")\n",
    "\n",
    "final = pd.concat([apps, acc])"
   ]
  },
  {
   "source": [
    "### Push it to Google Sheets"
   ],
   "cell_type": "markdown",
   "metadata": {}
  },
  {
   "source": [
    "# Credentials from service account file for Google Sheets\n",
    "config_vars = read_env_variables()\n",
    "print(\"Creating temporary file for service account credentials...\")\n",
    "\n",
    "temp = tempfile.NamedTemporaryFile()\n",
    "try:\n",
    "    access_creds = config_vars['GOOGLE_CREDS']\n",
    "    \n",
    "    write_base64str_obj_to_file(access_creds, temp.name)\n",
    "finally:\n",
    "    gc = pygsheets.authorize(service_file=temp.name)\n",
    "    temp.close()\n",
    "\n",
    "print(\"Uploading to Google Sheets...\")\n",
    "workbook = gc.open_by_key(config_vars[\"SPREADSHEET_ID\"])\n",
    "worksheet = workbook.worksheet_by_title(config_vars[\"SHEET_NAME\"])\n",
    "\n",
    "worksheet.set_dataframe(final, start='A1', copy_head=True)\n",
    "print(\"Done!\")"
   ],
   "cell_type": "code",
   "metadata": {},
   "execution_count": 10,
   "outputs": [
    {
     "output_type": "stream",
     "name": "stdout",
     "text": [
      "Creating temporary file for service account credentials...\n",
      "Uploading to Google Sheets...\n",
      "Done!\n"
     ]
    }
   ]
  }
 ]
}